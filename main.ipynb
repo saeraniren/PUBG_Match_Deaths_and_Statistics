{
 "cells": [
  {
   "cell_type": "code",
   "execution_count": 1,
   "id": "55f07d89",
   "metadata": {},
   "outputs": [],
   "source": [
    "import os\n",
    "import time\n",
    "\n",
    "import pandas as pd \n",
    "from pyspark.sql import SparkSession\n",
    "from pyspark.sql.functions import col, sum, countDistinct\n",
    "\n",
    "import numpy as np \n",
    "import matplotlib.pyplot as plt \n",
    "import seaborn as sns "
   ]
  },
  {
   "cell_type": "code",
   "execution_count": 2,
   "id": "0e8c4ec8",
   "metadata": {},
   "outputs": [
    {
     "name": "stdout",
     "output_type": "stream",
     "text": [
      "Name: pyspark\n",
      "Version: 3.5.7\n",
      "Summary: Apache Spark Python API\n",
      "Home-page: https://github.com/apache/spark/tree/master/python\n",
      "Author: Spark Developers\n",
      "Author-email: dev@spark.apache.org\n",
      "License: http://www.apache.org/licenses/LICENSE-2.0\n",
      "Location: C:\\Users\\lento\\AppData\\Local\\Programs\\Python\\Python313\\Lib\\site-packages\n",
      "Requires: py4j\n",
      "Required-by: \n"
     ]
    }
   ],
   "source": [
    "!pip show pyspark"
   ]
  },
  {
   "cell_type": "markdown",
   "id": "19ff0eb5",
   "metadata": {},
   "source": [
    "# **Spark**\n",
    "\n",
    "- [스파크에 대해서](https://www.blog.data101.io/304)\n",
    "- [스파크 설치하기](https://dslyh01.tistory.com/4)"
   ]
  },
  {
   "cell_type": "code",
   "execution_count": 3,
   "id": "cc090ac7",
   "metadata": {},
   "outputs": [
    {
     "name": "stdout",
     "output_type": "stream",
     "text": [
      "Spark session created. 9.809705018997192 seconds elapsed.\n"
     ]
    }
   ],
   "source": [
    "# Spark 세션 만들기\n",
    "start = time.time()\n",
    "spark = SparkSession.builder \\\n",
    "    .appName(\"CheckSpark\") \\\n",
    "    .master(\"local[*]\") \\\n",
    "    .config(\"spark.executor.memory\", \"4g\") \\\n",
    "    .config(\"spark.ui.showConsoleProgress\", \"false\") \\\n",
    "    .getOrCreate()\n",
    "end = time.time()\n",
    "\n",
    "print(\"Spark session created.\", end - start, \"seconds elapsed.\")"
   ]
  },
  {
   "cell_type": "code",
   "execution_count": 4,
   "id": "fd1cbd08",
   "metadata": {},
   "outputs": [
    {
     "data": {
      "text/html": [
       "\n",
       "            <div>\n",
       "                <p><b>SparkSession - in-memory</b></p>\n",
       "                \n",
       "        <div>\n",
       "            <p><b>SparkContext</b></p>\n",
       "\n",
       "            <p><a href=\"http://host.docker.internal:4040\">Spark UI</a></p>\n",
       "\n",
       "            <dl>\n",
       "              <dt>Version</dt>\n",
       "                <dd><code>v3.5.7</code></dd>\n",
       "              <dt>Master</dt>\n",
       "                <dd><code>local[*]</code></dd>\n",
       "              <dt>AppName</dt>\n",
       "                <dd><code>CheckSpark</code></dd>\n",
       "            </dl>\n",
       "        </div>\n",
       "        \n",
       "            </div>\n",
       "        "
      ],
      "text/plain": [
       "<pyspark.sql.session.SparkSession at 0x22686c1d400>"
      ]
     },
     "execution_count": 4,
     "metadata": {},
     "output_type": "execute_result"
    }
   ],
   "source": [
    "# Spark 세션 출력\n",
    "spark"
   ]
  },
  {
   "cell_type": "code",
   "execution_count": 5,
   "id": "3e42af68",
   "metadata": {},
   "outputs": [
    {
     "name": "stdout",
     "output_type": "stream",
     "text": [
      "Spark session is active.\n"
     ]
    }
   ],
   "source": [
    "# Spark 세션이 존재하는지 확인\n",
    "spark_session = SparkSession.getActiveSession()\n",
    "\n",
    "if spark_session is not None:\n",
    "    print(\"Spark session is active.\")\n",
    "\n",
    "else:\n",
    "    print(\"No active Spark session.\")"
   ]
  },
  {
   "cell_type": "markdown",
   "id": "6703c992",
   "metadata": {},
   "source": [
    "# **데이터 컬럼명 의미**"
   ]
  },
  {
   "cell_type": "markdown",
   "id": "a4c0cde1",
   "metadata": {},
   "source": [
    "## **Match / Aggregate 데이터 컬럼 설명**\n",
    "\n",
    "| 컬럼명                 | 의미 / 설명                                       |\n",
    "| ------------------- | --------------------------------------------- |\n",
    "| date                | 경기가 시작된 날짜 및 시간                               |\n",
    "| game_size           | 한 경기에 참여한 총 인원 수 (match 규모)                   |\n",
    "| match_id            | 각 경기의 고유 식별자                                  |\n",
    "| match_mode          | 경기 모드 (예: 1인칭 시점 FPP, 3인칭 시점 TPP 등)           |\n",
    "| party_size          | 팀 당 인원 수 (예: 솔로면 1, 듀오면 2, 스쿼드면 4)            |\n",
    "| player_assists      | 어시스트(도움) 횟수                                   |\n",
    "| player_dbno         | knocked down (기절 상태로 만든) 횟수 — 적을 기절 상태로 만든 횟수 |\n",
    "| player_dist_ride    | 차량으로 이동한 거리                                   |\n",
    "| player_dist_walk    | 도보로 이동한 거리                                    |\n",
    "| player_dmg          | 적에게 준 피해량 총합                                  |\n",
    "| player_kills        | 처치(킬)한 적 수                                    |\n",
    "| player_name         | 플레이어의 고유 게임 아이디                               |\n",
    "| player_survive_time | 이 플레이어가 얼마나 오래 생존했는지 (초 또는 분 단위)              |\n",
    "| team_id             | 이 플레이어가 속한 팀의 식별자                             |\n",
    "| team_placement      | 경기 종료 시 팀의 순위 (예: 1등, 2등 등)                   |\n",
    "\n",
    "## **Deaths / Kill 이벤트 데이터 컬럼 설명**\n",
    "\n",
    "| 컬럼명               | 의미 / 설명                                  |\n",
    "| ----------------- | ---------------------------------------- |\n",
    "| killed_by         | 어떤 무기 또는 방식으로 죽었는지 (예: 무기 이름)            |\n",
    "| killer_name       | 킬한 플레이어의 아이디                             |\n",
    "| killer_placement  | 킬한 플레이어의 팀 최종 순위                         |\n",
    "| killer_position_x | 킬이 발생한 시점의 killer의 X 좌표                  |\n",
    "| killer_position_y | 킬이 발생한 시점의 killer의 Y 좌표                  |\n",
    "| map               | 어느 맵에서 발생했는지 (예: Erangel, Miramar 등)     |\n",
    "| match_id          | 이 사망 이벤트가 속한 경기 ID                       |\n",
    "| time              | 경기가 시작된 후 경과한 시간 (킬이 발생한 시점, 초 또는 같은 단위) |\n",
    "| victim_name       | 사망한(피해 본) 플레이어의 아이디                      |\n",
    "| victim_placement  | 사망한 플레이어의 팀 최종 순위                        |\n",
    "| victim_position_x | 사망 시점의 피해 플레이어의 X 좌표                     |\n",
    "| victim_position_y | 사망 시점의 피해 플레이어의 Y 좌표                     |\n"
   ]
  },
  {
   "cell_type": "markdown",
   "id": "2498283a",
   "metadata": {},
   "source": [
    "# **데이터 불러오기**"
   ]
  },
  {
   "cell_type": "code",
   "execution_count": 6,
   "id": "063192d1",
   "metadata": {},
   "outputs": [],
   "source": [
    "# aggragate 폴더 내 모든 CSV 파일 불러오기\n",
    "DATA_DIR = \"./data/aggregate\"\n",
    "\n",
    "# 해당 디렉토리에서 csv 파일만 가져오기\n",
    "csv_files = [\n",
    "    os.path.join(DATA_DIR, f)\n",
    "    for f in os.listdir(DATA_DIR)\n",
    "    if f.endswith(\".csv\")\n",
    "]"
   ]
  },
  {
   "cell_type": "code",
   "execution_count": 7,
   "id": "3e61aaac",
   "metadata": {},
   "outputs": [],
   "source": [
    "# 여러 CSV 파일을 한 번에 읽기\n",
    "df = spark.read.csv(csv_files, header=True, inferSchema=True)"
   ]
  },
  {
   "cell_type": "markdown",
   "id": "380c95b4",
   "metadata": {},
   "source": [
    "# **데이터 오버뷰**"
   ]
  },
  {
   "cell_type": "code",
   "execution_count": 8,
   "id": "1f8eb0a9",
   "metadata": {},
   "outputs": [
    {
     "name": "stdout",
     "output_type": "stream",
     "text": [
      "root\n",
      " |-- date: timestamp (nullable = true)\n",
      " |-- game_size: integer (nullable = true)\n",
      " |-- match_id: string (nullable = true)\n",
      " |-- match_mode: string (nullable = true)\n",
      " |-- party_size: integer (nullable = true)\n",
      " |-- player_assists: integer (nullable = true)\n",
      " |-- player_dbno: integer (nullable = true)\n",
      " |-- player_dist_ride: double (nullable = true)\n",
      " |-- player_dist_walk: double (nullable = true)\n",
      " |-- player_dmg: integer (nullable = true)\n",
      " |-- player_kills: integer (nullable = true)\n",
      " |-- player_name: string (nullable = true)\n",
      " |-- player_survive_time: double (nullable = true)\n",
      " |-- team_id: integer (nullable = true)\n",
      " |-- team_placement: integer (nullable = true)\n",
      "\n"
     ]
    }
   ],
   "source": [
    "# 데이터프레임의 스키마 출력\n",
    "df.printSchema()"
   ]
  },
  {
   "cell_type": "code",
   "execution_count": 9,
   "id": "444672c9",
   "metadata": {},
   "outputs": [
    {
     "name": "stdout",
     "output_type": "stream",
     "text": [
      "+-------------------+---------+--------------------+----------+----------+--------------+-----------+------------------+------------------+----------+------------+-----------+-------------------+-------+--------------+\n",
      "|               date|game_size|            match_id|match_mode|party_size|player_assists|player_dbno|  player_dist_ride|  player_dist_walk|player_dmg|player_kills|player_name|player_survive_time|team_id|team_placement|\n",
      "+-------------------+---------+--------------------+----------+----------+--------------+-----------+------------------+------------------+----------+------------+-----------+-------------------+-------+--------------+\n",
      "|2017-11-27 05:59:40|       37|2U4GBNA0YmnNZYkzj...|       tpp|         2|             0|          1|          2870.724|        1784.84778|       117|           1|   SnuffIes|            1106.32|      4|            18|\n",
      "|2017-11-27 05:59:40|       37|2U4GBNA0YmnNZYkzj...|       tpp|         2|             0|          1|2938.4072300000003|1756.0797100000002|       127|           1|     Ozon3r|           1106.315|      4|            18|\n",
      "|2017-11-27 05:59:40|       37|2U4GBNA0YmnNZYkzj...|       tpp|         2|             0|          0|               0.0|        224.157562|        67|           0|     bovize|            235.558|      5|            33|\n",
      "|2017-11-27 05:59:40|       37|2U4GBNA0YmnNZYkzj...|       tpp|         2|             0|          0|               0.0|          92.93515|         0|           0|    sbahn87|            197.553|      5|            33|\n",
      "|2017-11-27 05:59:40|       37|2U4GBNA0YmnNZYkzj...|       tpp|         2|             0|          0|        2619.07739|          2510.447|       175|           2|  GeminiZZZ|           1537.495|     14|            11|\n",
      "+-------------------+---------+--------------------+----------+----------+--------------+-----------+------------------+------------------+----------+------------+-----------+-------------------+-------+--------------+\n",
      "only showing top 5 rows\n",
      "\n"
     ]
    }
   ],
   "source": [
    "# 데이터프레임의 첫 5개 행 출력\n",
    "df.show(5)"
   ]
  },
  {
   "cell_type": "code",
   "execution_count": 10,
   "id": "a497d44a",
   "metadata": {},
   "outputs": [
    {
     "name": "stdout",
     "output_type": "stream",
     "text": [
      "+-------+------------------+--------------------+----------+------------------+-------------------+------------------+------------------+------------------+------------------+------------------+----------------+-------------------+------------------+------------------+\n",
      "|summary|         game_size|            match_id|match_mode|        party_size|     player_assists|       player_dbno|  player_dist_ride|  player_dist_walk|        player_dmg|      player_kills|     player_name|player_survive_time|           team_id|    team_placement|\n",
      "+-------+------------------+--------------------+----------+------------------+-------------------+------------------+------------------+------------------+------------------+------------------+----------------+-------------------+------------------+------------------+\n",
      "|  count|          67369231|            67369231|  67369231|          67369231|           67369231|          67369231|          67369231|          67369231|          67369231|          67369231|        67271578|           67369231|          67369231|          67369231|\n",
      "|   mean| 47.15455515589899|                NULL|      NULL|2.7333166531172073|0.22963008142396638|0.5843891108093545|1156.3091101720024|1284.0980583206683|123.94440552542451|0.8872670819116223|        Infinity|  43300.46627066929|20865.061478317897|24.463157565209553|\n",
      "| stddev|25.197114607311086|                NULL|      NULL|1.2466256930541921| 0.5756859126320132|1.1194821323540074|1999.7360841343193| 4210.942892389779|169.49406706443028|1.5543248649423196|             NaN|5.201819602878108E7| 40628.56994354828| 20.38450132743747|\n",
      "|    min|                 1|2U4GBNA0Ymk---ESF...|       tpp|                 1|                  0|                 0|               0.0|               0.0|                 0|                 0|  0----erhu----0|                0.0|                 1|                 0|\n",
      "|    max|               100|2U4GBNA0Ymnzzzpkg...|       tpp|                 4|                 13|               148|          506175.4|        1273645.38|              9408|                94|zzzzzzzzzzzzzzzx|       6.3648215E10|            100123|               100|\n",
      "+-------+------------------+--------------------+----------+------------------+-------------------+------------------+------------------+------------------+------------------+------------------+----------------+-------------------+------------------+------------------+\n",
      "\n"
     ]
    }
   ],
   "source": [
    "# 데이터프레임의 요약 통계 출력\n",
    "# pandas : df.describe()\n",
    "df.describe().show()"
   ]
  },
  {
   "cell_type": "code",
   "execution_count": 11,
   "id": "0c4824c4",
   "metadata": {},
   "outputs": [
    {
     "name": "stdout",
     "output_type": "stream",
     "text": [
      "Number of records: 67369231\n",
      "Number of columns: 15\n",
      "Columns: ['date', 'game_size', 'match_id', 'match_mode', 'party_size', 'player_assists', 'player_dbno', 'player_dist_ride', 'player_dist_walk', 'player_dmg', 'player_kills', 'player_name', 'player_survive_time', 'team_id', 'team_placement']\n"
     ]
    }
   ],
   "source": [
    "# 레코드 수, 컬럼 수 확인\n",
    "print(f\"Number of records: {df.count()}\")\n",
    "print(f\"Number of columns: {len(df.columns)}\")\n",
    "\n",
    "# 컬럼명 확인\n",
    "print(\"Columns:\", df.columns)"
   ]
  },
  {
   "cell_type": "code",
   "execution_count": 12,
   "id": "2723b7af",
   "metadata": {},
   "outputs": [
    {
     "name": "stdout",
     "output_type": "stream",
     "text": [
      "+----+---------+--------+----------+----------+--------------+-----------+----------------+----------------+----------+------------+-----------+-------------------+-------+--------------+\n",
      "|date|game_size|match_id|match_mode|party_size|player_assists|player_dbno|player_dist_ride|player_dist_walk|player_dmg|player_kills|player_name|player_survive_time|team_id|team_placement|\n",
      "+----+---------+--------+----------+----------+--------------+-----------+----------------+----------------+----------+------------+-----------+-------------------+-------+--------------+\n",
      "|   0|        0|       0|         0|         0|             0|          0|               0|               0|         0|           0|      97653|                  0|      0|             0|\n",
      "+----+---------+--------+----------+----------+--------------+-----------+----------------+----------------+----------+------------+-----------+-------------------+-------+--------------+\n",
      "\n"
     ]
    }
   ],
   "source": [
    "# 각 컬럼별 null 개수\n",
    "df.select([\n",
    "    sum(col(c).isNull().cast(\"int\")).alias(c)\n",
    "    for c in df.columns\n",
    "]).show()"
   ]
  },
  {
   "cell_type": "markdown",
   "id": "b769999a",
   "metadata": {},
   "source": [
    "# **데이터 오버뷰 한 눈에 보기**"
   ]
  },
  {
   "cell_type": "code",
   "execution_count": 14,
   "id": "f3e9e35c",
   "metadata": {},
   "outputs": [],
   "source": [
    "def spark_df_report(df, num_rows: int = 5):\n",
    "    print(\"=== DataFrame Overview ===\")\n",
    "    print(f\"Row count: {df.count()}\")\n",
    "    print(f\"Column count: {len(df.columns)}\")\n",
    "    print(f\"Columns: {df.columns}\")\n",
    "    print()\n",
    "    \n",
    "    print(\"=== Schema ===\")\n",
    "    df.printSchema()\n",
    "    print()\n",
    "    \n",
    "    print(\"=== Sample Data ===\")\n",
    "    df.show(n=num_rows, truncate=False)   # ✅ num_rows를 명시적으로 전달\n",
    "    print()\n",
    "    \n",
    "    print(\"=== Descriptive Statistics ===\")\n",
    "    df.describe().show()\n",
    "    print()\n",
    "    \n",
    "    print(\"=== Missing Values per Column ===\")\n",
    "    df.select([\n",
    "        sum(col(c).isNull().cast(\"int\")).alias(c)\n",
    "        for c in df.columns\n",
    "    ]).show()\n",
    "    print()"
   ]
  },
  {
   "cell_type": "code",
   "execution_count": 15,
   "id": "e97b02b2",
   "metadata": {},
   "outputs": [
    {
     "name": "stdout",
     "output_type": "stream",
     "text": [
      "=== DataFrame Overview ===\n",
      "Row count: 67369231\n",
      "Column count: 15\n",
      "Columns: ['date', 'game_size', 'match_id', 'match_mode', 'party_size', 'player_assists', 'player_dbno', 'player_dist_ride', 'player_dist_walk', 'player_dmg', 'player_kills', 'player_name', 'player_survive_time', 'team_id', 'team_placement']\n",
      "\n",
      "=== Schema ===\n",
      "root\n",
      " |-- date: timestamp (nullable = true)\n",
      " |-- game_size: integer (nullable = true)\n",
      " |-- match_id: string (nullable = true)\n",
      " |-- match_mode: string (nullable = true)\n",
      " |-- party_size: integer (nullable = true)\n",
      " |-- player_assists: integer (nullable = true)\n",
      " |-- player_dbno: integer (nullable = true)\n",
      " |-- player_dist_ride: double (nullable = true)\n",
      " |-- player_dist_walk: double (nullable = true)\n",
      " |-- player_dmg: integer (nullable = true)\n",
      " |-- player_kills: integer (nullable = true)\n",
      " |-- player_name: string (nullable = true)\n",
      " |-- player_survive_time: double (nullable = true)\n",
      " |-- team_id: integer (nullable = true)\n",
      " |-- team_placement: integer (nullable = true)\n",
      "\n",
      "\n",
      "=== Sample Data ===\n",
      "+-------------------+---------+----------------------------------------------------------------+----------+----------+--------------+-----------+------------------+------------------+----------+------------+-----------+-------------------+-------+--------------+\n",
      "|date               |game_size|match_id                                                        |match_mode|party_size|player_assists|player_dbno|player_dist_ride  |player_dist_walk  |player_dmg|player_kills|player_name|player_survive_time|team_id|team_placement|\n",
      "+-------------------+---------+----------------------------------------------------------------+----------+----------+--------------+-----------+------------------+------------------+----------+------------+-----------+-------------------+-------+--------------+\n",
      "|2017-11-27 05:59:40|37       |2U4GBNA0YmnNZYkzjkfgN4ev-hXSrak_BSey_YEG6kIuDG9fxFrrePqnqiM39pJO|tpp       |2         |0             |1          |2870.724          |1784.84778        |117       |1           |SnuffIes   |1106.32            |4      |18            |\n",
      "|2017-11-27 05:59:40|37       |2U4GBNA0YmnNZYkzjkfgN4ev-hXSrak_BSey_YEG6kIuDG9fxFrrePqnqiM39pJO|tpp       |2         |0             |1          |2938.4072300000003|1756.0797100000002|127       |1           |Ozon3r     |1106.315           |4      |18            |\n",
      "|2017-11-27 05:59:40|37       |2U4GBNA0YmnNZYkzjkfgN4ev-hXSrak_BSey_YEG6kIuDG9fxFrrePqnqiM39pJO|tpp       |2         |0             |0          |0.0               |224.157562        |67        |0           |bovize     |235.558            |5      |33            |\n",
      "|2017-11-27 05:59:40|37       |2U4GBNA0YmnNZYkzjkfgN4ev-hXSrak_BSey_YEG6kIuDG9fxFrrePqnqiM39pJO|tpp       |2         |0             |0          |0.0               |92.93515          |0         |0           |sbahn87    |197.553            |5      |33            |\n",
      "|2017-11-27 05:59:40|37       |2U4GBNA0YmnNZYkzjkfgN4ev-hXSrak_BSey_YEG6kIuDG9fxFrrePqnqiM39pJO|tpp       |2         |0             |0          |2619.07739        |2510.447          |175       |2           |GeminiZZZ  |1537.495           |14     |11            |\n",
      "+-------------------+---------+----------------------------------------------------------------+----------+----------+--------------+-----------+------------------+------------------+----------+------------+-----------+-------------------+-------+--------------+\n",
      "only showing top 5 rows\n",
      "\n",
      "\n",
      "=== Descriptive Statistics ===\n",
      "+-------+------------------+--------------------+----------+------------------+-------------------+------------------+------------------+------------------+------------------+------------------+----------------+-------------------+------------------+------------------+\n",
      "|summary|         game_size|            match_id|match_mode|        party_size|     player_assists|       player_dbno|  player_dist_ride|  player_dist_walk|        player_dmg|      player_kills|     player_name|player_survive_time|           team_id|    team_placement|\n",
      "+-------+------------------+--------------------+----------+------------------+-------------------+------------------+------------------+------------------+------------------+------------------+----------------+-------------------+------------------+------------------+\n",
      "|  count|          67369231|            67369231|  67369231|          67369231|           67369231|          67369231|          67369231|          67369231|          67369231|          67369231|        67271578|           67369231|          67369231|          67369231|\n",
      "|   mean| 47.15455515589899|                NULL|      NULL|2.7333166531172073|0.22963008142396638|0.5843891108093545|1156.3091101720024|1284.0980583206683|123.94440552542451|0.8872670819116223|        Infinity|  43300.46627066929|20865.061478317897|24.463157565209553|\n",
      "| stddev|25.197114607311086|                NULL|      NULL|1.2466256930541921| 0.5756859126320132|1.1194821323540074|1999.7360841343193| 4210.942892389779|169.49406706443028|1.5543248649423196|             NaN|5.201819602878108E7| 40628.56994354828| 20.38450132743747|\n",
      "|    min|                 1|2U4GBNA0Ymk---ESF...|       tpp|                 1|                  0|                 0|               0.0|               0.0|                 0|                 0|  0----erhu----0|                0.0|                 1|                 0|\n",
      "|    max|               100|2U4GBNA0Ymnzzzpkg...|       tpp|                 4|                 13|               148|          506175.4|        1273645.38|              9408|                94|zzzzzzzzzzzzzzzx|       6.3648215E10|            100123|               100|\n",
      "+-------+------------------+--------------------+----------+------------------+-------------------+------------------+------------------+------------------+------------------+------------------+----------------+-------------------+------------------+------------------+\n",
      "\n",
      "\n",
      "=== Missing Values per Column ===\n",
      "+----+---------+--------+----------+----------+--------------+-----------+----------------+----------------+----------+------------+-----------+-------------------+-------+--------------+\n",
      "|date|game_size|match_id|match_mode|party_size|player_assists|player_dbno|player_dist_ride|player_dist_walk|player_dmg|player_kills|player_name|player_survive_time|team_id|team_placement|\n",
      "+----+---------+--------+----------+----------+--------------+-----------+----------------+----------------+----------+------------+-----------+-------------------+-------+--------------+\n",
      "|   0|        0|       0|         0|         0|             0|          0|               0|               0|         0|           0|      97653|                  0|      0|             0|\n",
      "+----+---------+--------+----------+----------+--------------+-----------+----------------+----------------+----------+------------+-----------+-------------------+-------+--------------+\n",
      "\n",
      "\n"
     ]
    }
   ],
   "source": [
    "spark_df_report(df)"
   ]
  },
  {
   "cell_type": "markdown",
   "id": "a183810a",
   "metadata": {},
   "source": [
    "# **데이터 EDA**"
   ]
  },
  {
   "cell_type": "code",
   "execution_count": 16,
   "id": "2fa9f9ea",
   "metadata": {},
   "outputs": [
    {
     "name": "stdout",
     "output_type": "stream",
     "text": [
      "+----------+--------+\n",
      "|match_mode|   count|\n",
      "+----------+--------+\n",
      "|       tpp|67369231|\n",
      "+----------+--------+\n",
      "\n"
     ]
    }
   ],
   "source": [
    "df.groupBy(\"match_mode\").count().orderBy(\"count\", ascending=False).show()"
   ]
  },
  {
   "cell_type": "markdown",
   "id": "39c200f2",
   "metadata": {},
   "source": [
    "해당 데이터는 TPP (3인칭 시점) 게임으로 이루어진 매치들로만 구성되어 있음."
   ]
  },
  {
   "cell_type": "code",
   "execution_count": 17,
   "id": "a0da12b8",
   "metadata": {},
   "outputs": [
    {
     "name": "stdout",
     "output_type": "stream",
     "text": [
      "+----------+--------+\n",
      "|party_size|   count|\n",
      "+----------+--------+\n",
      "|         4|31721314|\n",
      "|         2|21608268|\n",
      "|         1|14039649|\n",
      "+----------+--------+\n",
      "\n"
     ]
    }
   ],
   "source": [
    "df.groupBy(\"party_size\").count().orderBy(\"count\", ascending=False).show()"
   ]
  },
  {
   "cell_type": "markdown",
   "id": "7553abb2",
   "metadata": {},
   "source": [
    "전체 중 약 3천만건 이상에서 Squad(4인 파티) 매칭을 참여함.\n",
    "\n",
    "솔로 플레이는 약 1400만건으로, 사람들이 게임을 홀로 즐기는 사람도 어느 정도 있다는 것으로 확인."
   ]
  },
  {
   "cell_type": "markdown",
   "id": "96c988d1",
   "metadata": {},
   "source": [
    "## **Player Name이 결측치인 것은 부정행위를 저지른 것인가?**"
   ]
  },
  {
   "cell_type": "code",
   "execution_count": null,
   "id": "dfc36043",
   "metadata": {},
   "outputs": [],
   "source": []
  },
  {
   "cell_type": "code",
   "execution_count": null,
   "id": "7de2612f",
   "metadata": {},
   "outputs": [],
   "source": []
  },
  {
   "cell_type": "code",
   "execution_count": null,
   "id": "da213c07",
   "metadata": {},
   "outputs": [],
   "source": []
  },
  {
   "cell_type": "code",
   "execution_count": null,
   "id": "b2323ff8",
   "metadata": {},
   "outputs": [],
   "source": []
  },
  {
   "cell_type": "code",
   "execution_count": null,
   "id": "631cf677",
   "metadata": {},
   "outputs": [],
   "source": []
  },
  {
   "cell_type": "code",
   "execution_count": null,
   "id": "2fe3f268",
   "metadata": {},
   "outputs": [],
   "source": []
  },
  {
   "cell_type": "code",
   "execution_count": null,
   "id": "c2ff8186",
   "metadata": {},
   "outputs": [],
   "source": []
  },
  {
   "cell_type": "code",
   "execution_count": null,
   "id": "8ab1d7fb",
   "metadata": {},
   "outputs": [],
   "source": []
  },
  {
   "cell_type": "code",
   "execution_count": null,
   "id": "2425c2ae",
   "metadata": {},
   "outputs": [],
   "source": []
  },
  {
   "cell_type": "code",
   "execution_count": null,
   "id": "a2f23cb6",
   "metadata": {},
   "outputs": [],
   "source": []
  },
  {
   "cell_type": "code",
   "execution_count": null,
   "id": "7a6215df",
   "metadata": {},
   "outputs": [],
   "source": []
  },
  {
   "cell_type": "code",
   "execution_count": null,
   "id": "5e403cd1",
   "metadata": {},
   "outputs": [],
   "source": []
  }
 ],
 "metadata": {
  "kernelspec": {
   "display_name": "Python 3",
   "language": "python",
   "name": "python3"
  },
  "language_info": {
   "codemirror_mode": {
    "name": "ipython",
    "version": 3
   },
   "file_extension": ".py",
   "mimetype": "text/x-python",
   "name": "python",
   "nbconvert_exporter": "python",
   "pygments_lexer": "ipython3",
   "version": "3.13.7"
  }
 },
 "nbformat": 4,
 "nbformat_minor": 5
}
