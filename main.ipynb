{
 "cells": [
  {
   "cell_type": "code",
   "execution_count": 1,
   "id": "55f07d89",
   "metadata": {},
   "outputs": [],
   "source": [
    "import os\n",
    "import time\n",
    "\n",
    "import pandas as pd \n",
    "import polars as pl \n",
    "\n",
    "from pyspark.sql import SparkSession\n",
    "from pyspark.sql.functions import col, sum, min, max, count, countDistinct, date_format\n",
    "from pyspark.sql.window import Window\n",
    "\n",
    "import numpy as np \n",
    "import matplotlib.pyplot as plt \n",
    "import seaborn as sns "
   ]
  },
  {
   "cell_type": "code",
   "execution_count": 2,
   "id": "0e8c4ec8",
   "metadata": {},
   "outputs": [
    {
     "name": "stdout",
     "output_type": "stream",
     "text": [
      "Name: pyspark\n",
      "Version: 3.5.7\n",
      "Summary: Apache Spark Python API\n",
      "Home-page: https://github.com/apache/spark/tree/master/python\n",
      "Author: Spark Developers\n",
      "Author-email: dev@spark.apache.org\n",
      "License: http://www.apache.org/licenses/LICENSE-2.0\n",
      "Location: C:\\Users\\lento\\AppData\\Local\\Programs\\Python\\Python313\\Lib\\site-packages\n",
      "Requires: py4j\n",
      "Required-by: \n"
     ]
    }
   ],
   "source": [
    "!pip show pyspark"
   ]
  },
  {
   "cell_type": "markdown",
   "id": "19ff0eb5",
   "metadata": {},
   "source": [
    "# **Spark 세션 생성**\n",
    "\n",
    "- [스파크에 대해서](https://www.blog.data101.io/304)\n",
    "- [스파크 설치하기](https://dslyh01.tistory.com/4)\n",
    "- [스파크 UI 관찰하기](https://kadensungbincho.tistory.com/93)"
   ]
  },
  {
   "cell_type": "code",
   "execution_count": 3,
   "id": "cc090ac7",
   "metadata": {},
   "outputs": [
    {
     "name": "stdout",
     "output_type": "stream",
     "text": [
      "Spark session created. 3.3471357822418213 seconds elapsed.\n"
     ]
    }
   ],
   "source": [
    "# Spark 세션 만들기\n",
    "\n",
    "# appName : 애플리케이션 이름\n",
    "# master : 클러스터 URL, local[*]는 로컬 머신의 모든 코어 사용(CPU 코어 수에 따라 임의로 조정할 수 있음)\n",
    "# spark.executor.memory : 각 실행자에 할당된 메모리 양 (클러스터에서 각 작업 프로세스(executer)가 쓸 수 있는 메모리 크기)\n",
    "# spark.driver.memory : 드라이버 프로그램에 할당된 메모리 양 (내 컴퓨터 RAM에서 Spark 드라이버 프로세스가 쓸 수 있는 메모리 크기)\n",
    "# spark.sql.shuffle.partitions : 셔플 작업에 사용되는 파티션 수\n",
    "# spark.ui.showConsoleProgress : 콘솔에 진행 상황 표시 여부\n",
    "\n",
    "start = time.time()\n",
    "spark = SparkSession.builder \\\n",
    "    .appName(\"CheckSpark\") \\\n",
    "    .master(\"local[*]\") \\\n",
    "    .config(\"spark.executor.memory\", \"8g\") \\\n",
    "    .config(\"spark.driver.memory\", \"8g\") \\\n",
    "    .config(\"spark.sql.shuffle.partitions\", \"64\") \\\n",
    "    .config(\"spark.ui.showConsoleProgress\", \"false\") \\\n",
    "    .getOrCreate()\n",
    "end = time.time()\n",
    "\n",
    "# Spark 세션이 제대로 생성되었는지 확인\n",
    "print(\"Spark session created.\", end - start, \"seconds elapsed.\")"
   ]
  },
  {
   "cell_type": "code",
   "execution_count": 4,
   "id": "fd1cbd08",
   "metadata": {},
   "outputs": [
    {
     "data": {
      "text/html": [
       "\n",
       "            <div>\n",
       "                <p><b>SparkSession - in-memory</b></p>\n",
       "                \n",
       "        <div>\n",
       "            <p><b>SparkContext</b></p>\n",
       "\n",
       "            <p><a href=\"http://host.docker.internal:4040\">Spark UI</a></p>\n",
       "\n",
       "            <dl>\n",
       "              <dt>Version</dt>\n",
       "                <dd><code>v3.5.7</code></dd>\n",
       "              <dt>Master</dt>\n",
       "                <dd><code>local[*]</code></dd>\n",
       "              <dt>AppName</dt>\n",
       "                <dd><code>CheckSpark</code></dd>\n",
       "            </dl>\n",
       "        </div>\n",
       "        \n",
       "            </div>\n",
       "        "
      ],
      "text/plain": [
       "<pyspark.sql.session.SparkSession at 0x2723257b4d0>"
      ]
     },
     "execution_count": 4,
     "metadata": {},
     "output_type": "execute_result"
    }
   ],
   "source": [
    "# Spark 세션 출력\n",
    "spark"
   ]
  },
  {
   "cell_type": "code",
   "execution_count": 5,
   "id": "3e42af68",
   "metadata": {},
   "outputs": [
    {
     "name": "stdout",
     "output_type": "stream",
     "text": [
      "Spark session is active.\n"
     ]
    }
   ],
   "source": [
    "# Spark 세션이 존재하는지 확인\n",
    "spark_session = SparkSession.getActiveSession()\n",
    "\n",
    "if spark_session is not None:\n",
    "    print(\"Spark session is active.\")\n",
    "\n",
    "else:\n",
    "    print(\"No active Spark session.\")"
   ]
  },
  {
   "cell_type": "markdown",
   "id": "6703c992",
   "metadata": {},
   "source": [
    "# **데이터 컬럼명 의미**"
   ]
  },
  {
   "cell_type": "markdown",
   "id": "a4c0cde1",
   "metadata": {},
   "source": [
    "## **Match / Aggregate 데이터 컬럼 설명**\n",
    "\n",
    "| 컬럼명                 | 의미 / 설명                                       |\n",
    "| ------------------- | --------------------------------------------- |\n",
    "| date                | 경기가 시작된 날짜 및 시간                               |\n",
    "| game_size           | 한 경기에 참여한 총 인원 수 (match 규모)                   |\n",
    "| match_id            | 각 경기의 고유 식별자                                  |\n",
    "| match_mode          | 경기 모드 (예: 1인칭 시점 FPP, 3인칭 시점 TPP 등)           |\n",
    "| party_size          | 팀 당 인원 수 (예: 솔로면 1, 듀오면 2, 스쿼드면 4)            |\n",
    "| player_assists      | 어시스트(도움) 횟수                                   |\n",
    "| player_dbno         | knocked down (기절 상태로 만든) 횟수 — 적을 기절 상태로 만든 횟수 |\n",
    "| player_dist_ride    | 차량으로 이동한 거리                                   |\n",
    "| player_dist_walk    | 도보로 이동한 거리                                    |\n",
    "| player_dmg          | 적에게 준 피해량 총합                                  |\n",
    "| player_kills        | 처치(킬)한 적 수                                    |\n",
    "| player_name         | 플레이어의 고유 게임 아이디                               |\n",
    "| player_survive_time | 이 플레이어가 얼마나 오래 생존했는지 (초 또는 분 단위)              |\n",
    "| team_id             | 이 플레이어가 속한 팀의 식별자                             |\n",
    "| team_placement      | 경기 종료 시 팀의 순위 (예: 1등, 2등 등)                   |\n",
    "\n",
    "## **Deaths / Kill 이벤트 데이터 컬럼 설명**\n",
    "\n",
    "| 컬럼명               | 의미 / 설명                                  |\n",
    "| ----------------- | ---------------------------------------- |\n",
    "| killed_by         | 어떤 무기 또는 방식으로 죽었는지 (예: 무기 이름)            |\n",
    "| killer_name       | 킬한 플레이어의 아이디                             |\n",
    "| killer_placement  | 킬한 플레이어의 팀 최종 순위                         |\n",
    "| killer_position_x | 킬이 발생한 시점의 killer의 X 좌표                  |\n",
    "| killer_position_y | 킬이 발생한 시점의 killer의 Y 좌표                  |\n",
    "| map               | 어느 맵에서 발생했는지 (예: Erangel, Miramar 등)     |\n",
    "| match_id          | 이 사망 이벤트가 속한 경기 ID                       |\n",
    "| time              | 경기가 시작된 후 경과한 시간 (킬이 발생한 시점, 초 또는 같은 단위) |\n",
    "| victim_name       | 사망한(피해 본) 플레이어의 아이디                      |\n",
    "| victim_placement  | 사망한 플레이어의 팀 최종 순위                        |\n",
    "| victim_position_x | 사망 시점의 피해 플레이어의 X 좌표                     |\n",
    "| victim_position_y | 사망 시점의 피해 플레이어의 Y 좌표                     |\n"
   ]
  },
  {
   "cell_type": "markdown",
   "id": "2498283a",
   "metadata": {},
   "source": [
    "# **데이터 불러오기**"
   ]
  },
  {
   "cell_type": "code",
   "execution_count": 6,
   "id": "063192d1",
   "metadata": {},
   "outputs": [],
   "source": [
    "# aggragate 폴더 내 모든 CSV 파일 불러오기\n",
    "DATA_DIR = \"./data/aggregate\"\n",
    "\n",
    "# 해당 디렉토리에서 csv 파일만 가져오기\n",
    "csv_files = [\n",
    "    os.path.join(DATA_DIR, f)\n",
    "    for f in os.listdir(DATA_DIR)\n",
    "    if f.endswith(\".csv\")\n",
    "]"
   ]
  },
  {
   "cell_type": "code",
   "execution_count": 7,
   "id": "3e61aaac",
   "metadata": {},
   "outputs": [],
   "source": [
    "# 여러 CSV 파일을 한 번에 읽기\n",
    "df = spark.read.csv(csv_files, header=True, inferSchema=True)"
   ]
  },
  {
   "cell_type": "markdown",
   "id": "380c95b4",
   "metadata": {},
   "source": [
    "# **데이터 오버뷰**"
   ]
  },
  {
   "cell_type": "code",
   "execution_count": 8,
   "id": "1f8eb0a9",
   "metadata": {},
   "outputs": [
    {
     "name": "stdout",
     "output_type": "stream",
     "text": [
      "root\n",
      " |-- date: timestamp (nullable = true)\n",
      " |-- game_size: integer (nullable = true)\n",
      " |-- match_id: string (nullable = true)\n",
      " |-- match_mode: string (nullable = true)\n",
      " |-- party_size: integer (nullable = true)\n",
      " |-- player_assists: integer (nullable = true)\n",
      " |-- player_dbno: integer (nullable = true)\n",
      " |-- player_dist_ride: double (nullable = true)\n",
      " |-- player_dist_walk: double (nullable = true)\n",
      " |-- player_dmg: integer (nullable = true)\n",
      " |-- player_kills: integer (nullable = true)\n",
      " |-- player_name: string (nullable = true)\n",
      " |-- player_survive_time: double (nullable = true)\n",
      " |-- team_id: integer (nullable = true)\n",
      " |-- team_placement: integer (nullable = true)\n",
      "\n"
     ]
    }
   ],
   "source": [
    "# 데이터프레임의 스키마 출력\n",
    "df.printSchema()"
   ]
  },
  {
   "cell_type": "code",
   "execution_count": 9,
   "id": "444672c9",
   "metadata": {},
   "outputs": [
    {
     "name": "stdout",
     "output_type": "stream",
     "text": [
      "+-------------------+---------+--------------------+----------+----------+--------------+-----------+------------------+------------------+----------+------------+-----------+-------------------+-------+--------------+\n",
      "|               date|game_size|            match_id|match_mode|party_size|player_assists|player_dbno|  player_dist_ride|  player_dist_walk|player_dmg|player_kills|player_name|player_survive_time|team_id|team_placement|\n",
      "+-------------------+---------+--------------------+----------+----------+--------------+-----------+------------------+------------------+----------+------------+-----------+-------------------+-------+--------------+\n",
      "|2017-11-27 05:59:40|       37|2U4GBNA0YmnNZYkzj...|       tpp|         2|             0|          1|          2870.724|        1784.84778|       117|           1|   SnuffIes|            1106.32|      4|            18|\n",
      "|2017-11-27 05:59:40|       37|2U4GBNA0YmnNZYkzj...|       tpp|         2|             0|          1|2938.4072300000003|1756.0797100000002|       127|           1|     Ozon3r|           1106.315|      4|            18|\n",
      "|2017-11-27 05:59:40|       37|2U4GBNA0YmnNZYkzj...|       tpp|         2|             0|          0|               0.0|        224.157562|        67|           0|     bovize|            235.558|      5|            33|\n",
      "|2017-11-27 05:59:40|       37|2U4GBNA0YmnNZYkzj...|       tpp|         2|             0|          0|               0.0|          92.93515|         0|           0|    sbahn87|            197.553|      5|            33|\n",
      "|2017-11-27 05:59:40|       37|2U4GBNA0YmnNZYkzj...|       tpp|         2|             0|          0|        2619.07739|          2510.447|       175|           2|  GeminiZZZ|           1537.495|     14|            11|\n",
      "+-------------------+---------+--------------------+----------+----------+--------------+-----------+------------------+------------------+----------+------------+-----------+-------------------+-------+--------------+\n",
      "only showing top 5 rows\n",
      "\n"
     ]
    }
   ],
   "source": [
    "# 데이터프레임의 첫 5개 행 출력\n",
    "df.show(5)"
   ]
  },
  {
   "cell_type": "code",
   "execution_count": 10,
   "id": "a497d44a",
   "metadata": {},
   "outputs": [
    {
     "name": "stdout",
     "output_type": "stream",
     "text": [
      "+-------+------------------+--------------------+----------+------------------+-------------------+------------------+------------------+------------------+------------------+------------------+----------------+-------------------+------------------+------------------+\n",
      "|summary|         game_size|            match_id|match_mode|        party_size|     player_assists|       player_dbno|  player_dist_ride|  player_dist_walk|        player_dmg|      player_kills|     player_name|player_survive_time|           team_id|    team_placement|\n",
      "+-------+------------------+--------------------+----------+------------------+-------------------+------------------+------------------+------------------+------------------+------------------+----------------+-------------------+------------------+------------------+\n",
      "|  count|          67369231|            67369231|  67369231|          67369231|           67369231|          67369231|          67369231|          67369231|          67369231|          67369231|        67271578|           67369231|          67369231|          67369231|\n",
      "|   mean| 47.15455515589899|                NULL|      NULL|2.7333166531172073|0.22963008142396638|0.5843891108093545|1156.3091101720024|1284.0980583206683|123.94440552542451|0.8872670819116223|        Infinity|  43300.46627066929|20865.061478317897|24.463157565209553|\n",
      "| stddev|25.197114607311086|                NULL|      NULL|1.2466256930541921| 0.5756859126320132|1.1194821323540074|1999.7360841343193| 4210.942892389779|169.49406706443028|1.5543248649423196|             NaN|5.201819602878108E7| 40628.56994354828| 20.38450132743747|\n",
      "|    min|                 1|2U4GBNA0Ymk---ESF...|       tpp|                 1|                  0|                 0|               0.0|               0.0|                 0|                 0|  0----erhu----0|                0.0|                 1|                 0|\n",
      "|    max|               100|2U4GBNA0Ymnzzzpkg...|       tpp|                 4|                 13|               148|          506175.4|        1273645.38|              9408|                94|zzzzzzzzzzzzzzzx|       6.3648215E10|            100123|               100|\n",
      "+-------+------------------+--------------------+----------+------------------+-------------------+------------------+------------------+------------------+------------------+------------------+----------------+-------------------+------------------+------------------+\n",
      "\n"
     ]
    }
   ],
   "source": [
    "# 데이터프레임의 요약 통계 출력\n",
    "# pandas : df.describe()\n",
    "df.describe().show()"
   ]
  },
  {
   "cell_type": "code",
   "execution_count": 11,
   "id": "0c4824c4",
   "metadata": {},
   "outputs": [
    {
     "name": "stdout",
     "output_type": "stream",
     "text": [
      "Number of records: 67369231\n",
      "Number of columns: 15\n",
      "Columns: ['date', 'game_size', 'match_id', 'match_mode', 'party_size', 'player_assists', 'player_dbno', 'player_dist_ride', 'player_dist_walk', 'player_dmg', 'player_kills', 'player_name', 'player_survive_time', 'team_id', 'team_placement']\n"
     ]
    }
   ],
   "source": [
    "# 레코드 수, 컬럼 수 확인\n",
    "print(f\"Number of records: {df.count()}\")\n",
    "print(f\"Number of columns: {len(df.columns)}\")\n",
    "\n",
    "# 컬럼명 확인\n",
    "print(\"Columns:\", df.columns)"
   ]
  },
  {
   "cell_type": "markdown",
   "id": "064fe4fd",
   "metadata": {},
   "source": [
    "데이터의 크기는 `(67369231, 15)`"
   ]
  },
  {
   "cell_type": "code",
   "execution_count": 12,
   "id": "2723b7af",
   "metadata": {},
   "outputs": [
    {
     "name": "stdout",
     "output_type": "stream",
     "text": [
      "+----+---------+--------+----------+----------+--------------+-----------+----------------+----------------+----------+------------+-----------+-------------------+-------+--------------+\n",
      "|date|game_size|match_id|match_mode|party_size|player_assists|player_dbno|player_dist_ride|player_dist_walk|player_dmg|player_kills|player_name|player_survive_time|team_id|team_placement|\n",
      "+----+---------+--------+----------+----------+--------------+-----------+----------------+----------------+----------+------------+-----------+-------------------+-------+--------------+\n",
      "|   0|        0|       0|         0|         0|             0|          0|               0|               0|         0|           0|      97653|                  0|      0|             0|\n",
      "+----+---------+--------+----------+----------+--------------+-----------+----------------+----------------+----------+------------+-----------+-------------------+-------+--------------+\n",
      "\n"
     ]
    }
   ],
   "source": [
    "# 각 컬럼별 null 개수\n",
    "df.select([\n",
    "    sum(col(c).isNull().cast(\"int\")).alias(c)\n",
    "    for c in df.columns\n",
    "]).show()"
   ]
  },
  {
   "cell_type": "markdown",
   "id": "429b8b95",
   "metadata": {},
   "source": [
    "결측치는 `player_name`에서만 발생함."
   ]
  },
  {
   "cell_type": "markdown",
   "id": "b769999a",
   "metadata": {},
   "source": [
    "# **데이터 오버뷰 한 눈에 보기**"
   ]
  },
  {
   "cell_type": "code",
   "execution_count": 13,
   "id": "f3e9e35c",
   "metadata": {},
   "outputs": [],
   "source": [
    "def spark_df_report(df, num_rows: int = 5):\n",
    "    print(\"=== DataFrame Overview ===\")\n",
    "    print(f\"Row count: {df.count()}\")\n",
    "    print(f\"Column count: {len(df.columns)}\")\n",
    "    print(f\"Columns: {df.columns}\")\n",
    "    print()\n",
    "    \n",
    "    print(\"=== Schema ===\")\n",
    "    df.printSchema()\n",
    "    print()\n",
    "    \n",
    "    print(\"=== Sample Data ===\")\n",
    "    df.show(n=num_rows, truncate=False)   # ✅ num_rows를 명시적으로 전달\n",
    "    print()\n",
    "    \n",
    "    print(\"=== Descriptive Statistics ===\")\n",
    "    df.describe().show()\n",
    "    print()\n",
    "    \n",
    "    print(\"=== Missing Values per Column ===\")\n",
    "    df.select([\n",
    "        sum(col(c).isNull().cast(\"int\")).alias(c)\n",
    "        for c in df.columns\n",
    "    ]).show()\n",
    "    print()"
   ]
  },
  {
   "cell_type": "code",
   "execution_count": 14,
   "id": "e97b02b2",
   "metadata": {},
   "outputs": [
    {
     "name": "stdout",
     "output_type": "stream",
     "text": [
      "=== DataFrame Overview ===\n",
      "Row count: 67369231\n",
      "Column count: 15\n",
      "Columns: ['date', 'game_size', 'match_id', 'match_mode', 'party_size', 'player_assists', 'player_dbno', 'player_dist_ride', 'player_dist_walk', 'player_dmg', 'player_kills', 'player_name', 'player_survive_time', 'team_id', 'team_placement']\n",
      "\n",
      "=== Schema ===\n",
      "root\n",
      " |-- date: timestamp (nullable = true)\n",
      " |-- game_size: integer (nullable = true)\n",
      " |-- match_id: string (nullable = true)\n",
      " |-- match_mode: string (nullable = true)\n",
      " |-- party_size: integer (nullable = true)\n",
      " |-- player_assists: integer (nullable = true)\n",
      " |-- player_dbno: integer (nullable = true)\n",
      " |-- player_dist_ride: double (nullable = true)\n",
      " |-- player_dist_walk: double (nullable = true)\n",
      " |-- player_dmg: integer (nullable = true)\n",
      " |-- player_kills: integer (nullable = true)\n",
      " |-- player_name: string (nullable = true)\n",
      " |-- player_survive_time: double (nullable = true)\n",
      " |-- team_id: integer (nullable = true)\n",
      " |-- team_placement: integer (nullable = true)\n",
      "\n",
      "\n",
      "=== Sample Data ===\n",
      "+-------------------+---------+----------------------------------------------------------------+----------+----------+--------------+-----------+------------------+------------------+----------+------------+-----------+-------------------+-------+--------------+\n",
      "|date               |game_size|match_id                                                        |match_mode|party_size|player_assists|player_dbno|player_dist_ride  |player_dist_walk  |player_dmg|player_kills|player_name|player_survive_time|team_id|team_placement|\n",
      "+-------------------+---------+----------------------------------------------------------------+----------+----------+--------------+-----------+------------------+------------------+----------+------------+-----------+-------------------+-------+--------------+\n",
      "|2017-11-27 05:59:40|37       |2U4GBNA0YmnNZYkzjkfgN4ev-hXSrak_BSey_YEG6kIuDG9fxFrrePqnqiM39pJO|tpp       |2         |0             |1          |2870.724          |1784.84778        |117       |1           |SnuffIes   |1106.32            |4      |18            |\n",
      "|2017-11-27 05:59:40|37       |2U4GBNA0YmnNZYkzjkfgN4ev-hXSrak_BSey_YEG6kIuDG9fxFrrePqnqiM39pJO|tpp       |2         |0             |1          |2938.4072300000003|1756.0797100000002|127       |1           |Ozon3r     |1106.315           |4      |18            |\n",
      "|2017-11-27 05:59:40|37       |2U4GBNA0YmnNZYkzjkfgN4ev-hXSrak_BSey_YEG6kIuDG9fxFrrePqnqiM39pJO|tpp       |2         |0             |0          |0.0               |224.157562        |67        |0           |bovize     |235.558            |5      |33            |\n",
      "|2017-11-27 05:59:40|37       |2U4GBNA0YmnNZYkzjkfgN4ev-hXSrak_BSey_YEG6kIuDG9fxFrrePqnqiM39pJO|tpp       |2         |0             |0          |0.0               |92.93515          |0         |0           |sbahn87    |197.553            |5      |33            |\n",
      "|2017-11-27 05:59:40|37       |2U4GBNA0YmnNZYkzjkfgN4ev-hXSrak_BSey_YEG6kIuDG9fxFrrePqnqiM39pJO|tpp       |2         |0             |0          |2619.07739        |2510.447          |175       |2           |GeminiZZZ  |1537.495           |14     |11            |\n",
      "+-------------------+---------+----------------------------------------------------------------+----------+----------+--------------+-----------+------------------+------------------+----------+------------+-----------+-------------------+-------+--------------+\n",
      "only showing top 5 rows\n",
      "\n",
      "\n",
      "=== Descriptive Statistics ===\n",
      "+-------+------------------+--------------------+----------+------------------+-------------------+------------------+------------------+------------------+------------------+------------------+----------------+-------------------+------------------+------------------+\n",
      "|summary|         game_size|            match_id|match_mode|        party_size|     player_assists|       player_dbno|  player_dist_ride|  player_dist_walk|        player_dmg|      player_kills|     player_name|player_survive_time|           team_id|    team_placement|\n",
      "+-------+------------------+--------------------+----------+------------------+-------------------+------------------+------------------+------------------+------------------+------------------+----------------+-------------------+------------------+------------------+\n",
      "|  count|          67369231|            67369231|  67369231|          67369231|           67369231|          67369231|          67369231|          67369231|          67369231|          67369231|        67271578|           67369231|          67369231|          67369231|\n",
      "|   mean| 47.15455515589899|                NULL|      NULL|2.7333166531172073|0.22963008142396638|0.5843891108093545|1156.3091101720024|1284.0980583206683|123.94440552542451|0.8872670819116223|        Infinity|  43300.46627066929|20865.061478317897|24.463157565209553|\n",
      "| stddev|25.197114607311086|                NULL|      NULL|1.2466256930541921| 0.5756859126320132|1.1194821323540074|1999.7360841343193| 4210.942892389779|169.49406706443028|1.5543248649423196|             NaN|5.201819602878108E7| 40628.56994354828| 20.38450132743747|\n",
      "|    min|                 1|2U4GBNA0Ymk---ESF...|       tpp|                 1|                  0|                 0|               0.0|               0.0|                 0|                 0|  0----erhu----0|                0.0|                 1|                 0|\n",
      "|    max|               100|2U4GBNA0Ymnzzzpkg...|       tpp|                 4|                 13|               148|          506175.4|        1273645.38|              9408|                94|zzzzzzzzzzzzzzzx|       6.3648215E10|            100123|               100|\n",
      "+-------+------------------+--------------------+----------+------------------+-------------------+------------------+------------------+------------------+------------------+------------------+----------------+-------------------+------------------+------------------+\n",
      "\n",
      "\n",
      "=== Missing Values per Column ===\n",
      "+----+---------+--------+----------+----------+--------------+-----------+----------------+----------------+----------+------------+-----------+-------------------+-------+--------------+\n",
      "|date|game_size|match_id|match_mode|party_size|player_assists|player_dbno|player_dist_ride|player_dist_walk|player_dmg|player_kills|player_name|player_survive_time|team_id|team_placement|\n",
      "+----+---------+--------+----------+----------+--------------+-----------+----------------+----------------+----------+------------+-----------+-------------------+-------+--------------+\n",
      "|   0|        0|       0|         0|         0|             0|          0|               0|               0|         0|           0|      97653|                  0|      0|             0|\n",
      "+----+---------+--------+----------+----------+--------------+-----------+----------------+----------------+----------+------------+-----------+-------------------+-------+--------------+\n",
      "\n",
      "\n"
     ]
    }
   ],
   "source": [
    "spark_df_report(df)"
   ]
  },
  {
   "cell_type": "markdown",
   "id": "a183810a",
   "metadata": {},
   "source": [
    "# **데이터 EDA**"
   ]
  },
  {
   "cell_type": "markdown",
   "id": "7b4b2ee0",
   "metadata": {},
   "source": [
    "## **게임 시점 분포**"
   ]
  },
  {
   "cell_type": "code",
   "execution_count": 15,
   "id": "2fa9f9ea",
   "metadata": {},
   "outputs": [
    {
     "name": "stdout",
     "output_type": "stream",
     "text": [
      "+----------+--------+\n",
      "|match_mode|   count|\n",
      "+----------+--------+\n",
      "|       tpp|67369231|\n",
      "+----------+--------+\n",
      "\n"
     ]
    }
   ],
   "source": [
    "df.groupBy(\"match_mode\").count().orderBy(\"count\", ascending=False).show()"
   ]
  },
  {
   "cell_type": "markdown",
   "id": "39c200f2",
   "metadata": {},
   "source": [
    "해당 데이터는 TPP (3인칭 시점) 게임으로 이루어진 매치들로만 구성되어 있음."
   ]
  },
  {
   "cell_type": "markdown",
   "id": "b1617854",
   "metadata": {},
   "source": [
    "## **매칭 파티 분포**"
   ]
  },
  {
   "cell_type": "code",
   "execution_count": 16,
   "id": "a0da12b8",
   "metadata": {},
   "outputs": [
    {
     "name": "stdout",
     "output_type": "stream",
     "text": [
      "+----------+--------+\n",
      "|party_size|   count|\n",
      "+----------+--------+\n",
      "|         4|31721314|\n",
      "|         2|21608268|\n",
      "|         1|14039649|\n",
      "+----------+--------+\n",
      "\n"
     ]
    }
   ],
   "source": [
    "df.groupBy(\"party_size\").count().orderBy(\"count\", ascending=False).show()"
   ]
  },
  {
   "cell_type": "markdown",
   "id": "7553abb2",
   "metadata": {},
   "source": [
    "전체 중 약 3천만건 이상에서 Squad(4인 파티) 매칭을 참여함.\n",
    "\n",
    "솔로 플레이는 약 1400만건으로, 사람들이 게임을 홀로 즐기는 사람도 어느 정도 있다는 것으로 확인."
   ]
  },
  {
   "cell_type": "markdown",
   "id": "728c7757",
   "metadata": {},
   "source": [
    "## **데미지 총량 분포**"
   ]
  },
  {
   "cell_type": "code",
   "execution_count": 17,
   "id": "9f682133",
   "metadata": {},
   "outputs": [
    {
     "data": {
      "image/png": "[encoded data removed]",
      "text/plain": [
       "<Figure size 640x480 with 1 Axes>"
      ]
     },
     "metadata": {},
     "output_type": "display_data"
    }
   ],
   "source": [
    "# bin 크기 설정 (예: 100 단위)\n",
    "bin_size = 100\n",
    "hist_df = (\n",
    "    df.withColumn(\"bin\", (col(\"player_dmg\")/bin_size).cast(\"int\")*bin_size)\n",
    "      .groupBy(\"bin\")\n",
    "      .count()\n",
    "      .orderBy(\"bin\")\n",
    ")\n",
    "\n",
    "hist_pdf = hist_df.toPandas()\n",
    "\n",
    "plt.bar(hist_pdf[\"bin\"], hist_pdf[\"count\"], width=bin_size, align=\"edge\", edgecolor=\"black\")\n",
    "plt.xlabel(\"Player Damage (binned)\")\n",
    "plt.ylabel(\"Frequency\")\n",
    "plt.title(\"Player Damage Histogram (Spark SQL)\")\n",
    "plt.show()"
   ]
  },
  {
   "cell_type": "markdown",
   "id": "8b943dbc",
   "metadata": {},
   "source": [
    "전체적인 데미지 총량은 0~1500 구간에 많은 양이 분포함."
   ]
  },
  {
   "cell_type": "markdown",
   "id": "96c988d1",
   "metadata": {},
   "source": [
    "### **Q. Player Name이 결측치인 것은 데미지가 높아서 이름이 결측된 것인가?**\n",
    "\n",
    "`player_dmg` 컬럼의 분포가 0~9408의 범위를 가짐.\n",
    "\n",
    "PUBG에서 한 유저에 가하는 데미지는 차이가 있을 수 있지만, 유저의 HP를 100으로 두고 계산을 하기 떄문에 이상치로 판단될 여지가 있었음.\n",
    "\n",
    "위의 내용을 근거하여, `player_name`이 결측이 된 이유가 해당 게임에서 부정행위(에임핵 등)을 사용해서 정지를 당한 유저가 해당 값에 결측이 된 것인지 확인하기 위함."
   ]
  },
  {
   "cell_type": "code",
   "execution_count": 18,
   "id": "5a770550",
   "metadata": {},
   "outputs": [],
   "source": [
    "df_null = df.filter(col(\"player_name\").isNull())\n",
    "df_notnull = df.filter(col(\"player_name\").isNotNull())"
   ]
  },
  {
   "cell_type": "code",
   "execution_count": 19,
   "id": "93accef0",
   "metadata": {},
   "outputs": [
    {
     "name": "stdout",
     "output_type": "stream",
     "text": [
      "+-------+------------------+\n",
      "|summary|        player_dmg|\n",
      "+-------+------------------+\n",
      "|  count|             97653|\n",
      "|   mean|119.68619499656948|\n",
      "| stddev|183.77568855694227|\n",
      "|    min|                 0|\n",
      "|    max|              3908|\n",
      "+-------+------------------+\n",
      "\n"
     ]
    }
   ],
   "source": [
    "df_null.select(col(\"player_dmg\")).describe().show()"
   ]
  },
  {
   "cell_type": "code",
   "execution_count": 20,
   "id": "a20f43ad",
   "metadata": {},
   "outputs": [
    {
     "name": "stdout",
     "output_type": "stream",
     "text": [
      "+-------+------------------+\n",
      "|summary|        player_dmg|\n",
      "+-------+------------------+\n",
      "|  count|          67271578|\n",
      "|   mean|123.95058684367416|\n",
      "| stddev|169.47238443928399|\n",
      "|    min|                 0|\n",
      "|    max|              9408|\n",
      "+-------+------------------+\n",
      "\n"
     ]
    }
   ],
   "source": [
    "df_notnull.select(col(\"player_dmg\")).describe().show()"
   ]
  },
  {
   "cell_type": "markdown",
   "id": "7e998762",
   "metadata": {},
   "source": [
    "요약본에서 바로 파악할 수 있듯, 밴을 당해 `player_name`이 결측이 생긴 것으로 판단할 수 없음을 확인할 수 있음."
   ]
  },
  {
   "cell_type": "markdown",
   "id": "0e5e9279",
   "metadata": {},
   "source": [
    "### **Q. Player Name이 결측치가 발생한 시기는 언제인가?**"
   ]
  },
  {
   "cell_type": "code",
   "execution_count": 21,
   "id": "b2d24eaf",
   "metadata": {},
   "outputs": [
    {
     "name": "stdout",
     "output_type": "stream",
     "text": [
      "Null player_name date range: 2017-10-20 17:04:48 to 2018-01-10 21:02:16\n"
     ]
    }
   ],
   "source": [
    "null_date_min = df_null.agg(min(col(\"date\"))).collect()[0][0]\n",
    "null_date_max = df_null.agg(max(col(\"date\"))).collect()[0][0]\n",
    "print(f\"Null player_name date range: {null_date_min} to {null_date_max}\")"
   ]
  },
  {
   "cell_type": "markdown",
   "id": "059a17df",
   "metadata": {},
   "source": [
    "## **일별 게임 참여 유저 수**"
   ]
  },
  {
   "cell_type": "code",
   "execution_count": 22,
   "id": "dfc36043",
   "metadata": {},
   "outputs": [
    {
     "data": {
      "text/html": [
       "<div>\n",
       "<style scoped>\n",
       "    .dataframe tbody tr th:only-of-type {\n",
       "        vertical-align: middle;\n",
       "    }\n",
       "\n",
       "    .dataframe tbody tr th {\n",
       "        vertical-align: top;\n",
       "    }\n",
       "\n",
       "    .dataframe thead th {\n",
       "        text-align: right;\n",
       "    }\n",
       "</style>\n",
       "<table border=\"1\" class=\"dataframe\">\n",
       "  <thead>\n",
       "    <tr style=\"text-align: right;\">\n",
       "      <th></th>\n",
       "      <th>date_period</th>\n",
       "      <th>party_size</th>\n",
       "      <th>game_count</th>\n",
       "    </tr>\n",
       "  </thead>\n",
       "  <tbody>\n",
       "    <tr>\n",
       "      <th>0</th>\n",
       "      <td>2017-10-20</td>\n",
       "      <td>1</td>\n",
       "      <td>25760</td>\n",
       "    </tr>\n",
       "    <tr>\n",
       "      <th>1</th>\n",
       "      <td>2017-10-20</td>\n",
       "      <td>2</td>\n",
       "      <td>31396</td>\n",
       "    </tr>\n",
       "    <tr>\n",
       "      <th>2</th>\n",
       "      <td>2017-10-20</td>\n",
       "      <td>4</td>\n",
       "      <td>39092</td>\n",
       "    </tr>\n",
       "    <tr>\n",
       "      <th>3</th>\n",
       "      <td>2017-10-21</td>\n",
       "      <td>1</td>\n",
       "      <td>115612</td>\n",
       "    </tr>\n",
       "    <tr>\n",
       "      <th>4</th>\n",
       "      <td>2017-10-21</td>\n",
       "      <td>2</td>\n",
       "      <td>145914</td>\n",
       "    </tr>\n",
       "    <tr>\n",
       "      <th>5</th>\n",
       "      <td>2017-10-21</td>\n",
       "      <td>4</td>\n",
       "      <td>192750</td>\n",
       "    </tr>\n",
       "    <tr>\n",
       "      <th>6</th>\n",
       "      <td>2017-10-22</td>\n",
       "      <td>1</td>\n",
       "      <td>119922</td>\n",
       "    </tr>\n",
       "    <tr>\n",
       "      <th>7</th>\n",
       "      <td>2017-10-22</td>\n",
       "      <td>2</td>\n",
       "      <td>161186</td>\n",
       "    </tr>\n",
       "    <tr>\n",
       "      <th>8</th>\n",
       "      <td>2017-10-22</td>\n",
       "      <td>4</td>\n",
       "      <td>206420</td>\n",
       "    </tr>\n",
       "    <tr>\n",
       "      <th>9</th>\n",
       "      <td>2017-10-23</td>\n",
       "      <td>1</td>\n",
       "      <td>119210</td>\n",
       "    </tr>\n",
       "    <tr>\n",
       "      <th>10</th>\n",
       "      <td>2017-10-23</td>\n",
       "      <td>2</td>\n",
       "      <td>156953</td>\n",
       "    </tr>\n",
       "    <tr>\n",
       "      <th>11</th>\n",
       "      <td>2017-10-23</td>\n",
       "      <td>4</td>\n",
       "      <td>190328</td>\n",
       "    </tr>\n",
       "    <tr>\n",
       "      <th>12</th>\n",
       "      <td>2017-10-24</td>\n",
       "      <td>1</td>\n",
       "      <td>105863</td>\n",
       "    </tr>\n",
       "    <tr>\n",
       "      <th>13</th>\n",
       "      <td>2017-10-24</td>\n",
       "      <td>2</td>\n",
       "      <td>141726</td>\n",
       "    </tr>\n",
       "    <tr>\n",
       "      <th>14</th>\n",
       "      <td>2017-10-24</td>\n",
       "      <td>4</td>\n",
       "      <td>173426</td>\n",
       "    </tr>\n",
       "    <tr>\n",
       "      <th>15</th>\n",
       "      <td>2017-10-25</td>\n",
       "      <td>1</td>\n",
       "      <td>106001</td>\n",
       "    </tr>\n",
       "    <tr>\n",
       "      <th>16</th>\n",
       "      <td>2017-10-25</td>\n",
       "      <td>2</td>\n",
       "      <td>133245</td>\n",
       "    </tr>\n",
       "    <tr>\n",
       "      <th>17</th>\n",
       "      <td>2017-10-25</td>\n",
       "      <td>4</td>\n",
       "      <td>167378</td>\n",
       "    </tr>\n",
       "    <tr>\n",
       "      <th>18</th>\n",
       "      <td>2017-10-26</td>\n",
       "      <td>1</td>\n",
       "      <td>90647</td>\n",
       "    </tr>\n",
       "    <tr>\n",
       "      <th>19</th>\n",
       "      <td>2017-10-26</td>\n",
       "      <td>2</td>\n",
       "      <td>127036</td>\n",
       "    </tr>\n",
       "    <tr>\n",
       "      <th>20</th>\n",
       "      <td>2017-10-26</td>\n",
       "      <td>4</td>\n",
       "      <td>157458</td>\n",
       "    </tr>\n",
       "    <tr>\n",
       "      <th>21</th>\n",
       "      <td>2017-10-27</td>\n",
       "      <td>1</td>\n",
       "      <td>102196</td>\n",
       "    </tr>\n",
       "    <tr>\n",
       "      <th>22</th>\n",
       "      <td>2017-10-27</td>\n",
       "      <td>2</td>\n",
       "      <td>137608</td>\n",
       "    </tr>\n",
       "    <tr>\n",
       "      <th>23</th>\n",
       "      <td>2017-10-27</td>\n",
       "      <td>4</td>\n",
       "      <td>168998</td>\n",
       "    </tr>\n",
       "    <tr>\n",
       "      <th>24</th>\n",
       "      <td>2017-10-28</td>\n",
       "      <td>1</td>\n",
       "      <td>119055</td>\n",
       "    </tr>\n",
       "    <tr>\n",
       "      <th>25</th>\n",
       "      <td>2017-10-28</td>\n",
       "      <td>2</td>\n",
       "      <td>145945</td>\n",
       "    </tr>\n",
       "    <tr>\n",
       "      <th>26</th>\n",
       "      <td>2017-10-28</td>\n",
       "      <td>4</td>\n",
       "      <td>196313</td>\n",
       "    </tr>\n",
       "    <tr>\n",
       "      <th>27</th>\n",
       "      <td>2017-10-29</td>\n",
       "      <td>1</td>\n",
       "      <td>131128</td>\n",
       "    </tr>\n",
       "    <tr>\n",
       "      <th>28</th>\n",
       "      <td>2017-10-29</td>\n",
       "      <td>2</td>\n",
       "      <td>163931</td>\n",
       "    </tr>\n",
       "    <tr>\n",
       "      <th>29</th>\n",
       "      <td>2017-10-29</td>\n",
       "      <td>4</td>\n",
       "      <td>216406</td>\n",
       "    </tr>\n",
       "  </tbody>\n",
       "</table>\n",
       "</div>"
      ],
      "text/plain": [
       "   date_period  party_size  game_count\n",
       "0   2017-10-20           1       25760\n",
       "1   2017-10-20           2       31396\n",
       "2   2017-10-20           4       39092\n",
       "3   2017-10-21           1      115612\n",
       "4   2017-10-21           2      145914\n",
       "5   2017-10-21           4      192750\n",
       "6   2017-10-22           1      119922\n",
       "7   2017-10-22           2      161186\n",
       "8   2017-10-22           4      206420\n",
       "9   2017-10-23           1      119210\n",
       "10  2017-10-23           2      156953\n",
       "11  2017-10-23           4      190328\n",
       "12  2017-10-24           1      105863\n",
       "13  2017-10-24           2      141726\n",
       "14  2017-10-24           4      173426\n",
       "15  2017-10-25           1      106001\n",
       "16  2017-10-25           2      133245\n",
       "17  2017-10-25           4      167378\n",
       "18  2017-10-26           1       90647\n",
       "19  2017-10-26           2      127036\n",
       "20  2017-10-26           4      157458\n",
       "21  2017-10-27           1      102196\n",
       "22  2017-10-27           2      137608\n",
       "23  2017-10-27           4      168998\n",
       "24  2017-10-28           1      119055\n",
       "25  2017-10-28           2      145945\n",
       "26  2017-10-28           4      196313\n",
       "27  2017-10-29           1      131128\n",
       "28  2017-10-29           2      163931\n",
       "29  2017-10-29           4      216406"
      ]
     },
     "execution_count": 22,
     "metadata": {},
     "output_type": "execute_result"
    }
   ],
   "source": [
    "# 데이터 일자 변환\n",
    "df_formatted = df.withColumn(\"date_period\", date_format(col(\"date\"), \"yyyy-MM-dd\"))\n",
    "\n",
    "# 일별, 파티 사이즈별 유저 수 집계\n",
    "df_daily = df_formatted.groupBy([\"date_period\", \"party_size\"]).agg(\n",
    "    countDistinct(\"player_name\").alias(\"game_count\")).orderBy([\"date_period\", \"party_size\"])\n",
    "\n",
    "# 데이터 확인\n",
    "df_daily.limit(30).toPandas()"
   ]
  },
  {
   "cell_type": "code",
   "execution_count": 23,
   "id": "7de2612f",
   "metadata": {},
   "outputs": [
    {
     "data": {
      "text/html": [
       "<div>\n",
       "<style scoped>\n",
       "    .dataframe tbody tr th:only-of-type {\n",
       "        vertical-align: middle;\n",
       "    }\n",
       "\n",
       "    .dataframe tbody tr th {\n",
       "        vertical-align: top;\n",
       "    }\n",
       "\n",
       "    .dataframe thead th {\n",
       "        text-align: right;\n",
       "    }\n",
       "</style>\n",
       "<table border=\"1\" class=\"dataframe\">\n",
       "  <thead>\n",
       "    <tr style=\"text-align: right;\">\n",
       "      <th></th>\n",
       "      <th>date_period</th>\n",
       "      <th>party_size</th>\n",
       "      <th>game_count</th>\n",
       "    </tr>\n",
       "  </thead>\n",
       "  <tbody>\n",
       "    <tr>\n",
       "      <th>0</th>\n",
       "      <td>2017-10-20</td>\n",
       "      <td>1</td>\n",
       "      <td>25760</td>\n",
       "    </tr>\n",
       "    <tr>\n",
       "      <th>1</th>\n",
       "      <td>2017-10-20</td>\n",
       "      <td>2</td>\n",
       "      <td>31396</td>\n",
       "    </tr>\n",
       "    <tr>\n",
       "      <th>2</th>\n",
       "      <td>2017-10-20</td>\n",
       "      <td>4</td>\n",
       "      <td>39092</td>\n",
       "    </tr>\n",
       "    <tr>\n",
       "      <th>3</th>\n",
       "      <td>2017-10-21</td>\n",
       "      <td>1</td>\n",
       "      <td>115612</td>\n",
       "    </tr>\n",
       "    <tr>\n",
       "      <th>4</th>\n",
       "      <td>2017-10-21</td>\n",
       "      <td>2</td>\n",
       "      <td>145914</td>\n",
       "    </tr>\n",
       "    <tr>\n",
       "      <th>5</th>\n",
       "      <td>2017-10-21</td>\n",
       "      <td>4</td>\n",
       "      <td>192750</td>\n",
       "    </tr>\n",
       "    <tr>\n",
       "      <th>6</th>\n",
       "      <td>2017-10-22</td>\n",
       "      <td>1</td>\n",
       "      <td>119922</td>\n",
       "    </tr>\n",
       "    <tr>\n",
       "      <th>7</th>\n",
       "      <td>2017-10-22</td>\n",
       "      <td>2</td>\n",
       "      <td>161186</td>\n",
       "    </tr>\n",
       "    <tr>\n",
       "      <th>8</th>\n",
       "      <td>2017-10-22</td>\n",
       "      <td>4</td>\n",
       "      <td>206420</td>\n",
       "    </tr>\n",
       "    <tr>\n",
       "      <th>9</th>\n",
       "      <td>2017-10-23</td>\n",
       "      <td>1</td>\n",
       "      <td>119210</td>\n",
       "    </tr>\n",
       "  </tbody>\n",
       "</table>\n",
       "</div>"
      ],
      "text/plain": [
       "  date_period  party_size  game_count\n",
       "0  2017-10-20           1       25760\n",
       "1  2017-10-20           2       31396\n",
       "2  2017-10-20           4       39092\n",
       "3  2017-10-21           1      115612\n",
       "4  2017-10-21           2      145914\n",
       "5  2017-10-21           4      192750\n",
       "6  2017-10-22           1      119922\n",
       "7  2017-10-22           2      161186\n",
       "8  2017-10-22           4      206420\n",
       "9  2017-10-23           1      119210"
      ]
     },
     "execution_count": 23,
     "metadata": {},
     "output_type": "execute_result"
    }
   ],
   "source": [
    "# pandas 데이터프레임으로 변환\n",
    "pdf = df_daily.toPandas()\n",
    "\n",
    "# 변환 확인\n",
    "pdf.head(10)"
   ]
  },
  {
   "cell_type": "code",
   "execution_count": 24,
   "id": "631cf677",
   "metadata": {},
   "outputs": [
    {
     "data": {
      "image/png": "[encoded data removed]",
      "text/plain": [
       "<Figure size 1200x600 with 1 Axes>"
      ]
     },
     "metadata": {},
     "output_type": "display_data"
    }
   ],
   "source": [
    "# 데이터 시각화\n",
    "plt.figure(figsize=(12, 6))\n",
    "sns.lineplot(data=pdf, x=\"date_period\", y=\"game_count\", hue=\"party_size\", marker=\"o\")\n",
    "plt.xticks(rotation=45)\n",
    "plt.xlabel(\"Date\")\n",
    "plt.ylabel(\"Number of Users\")\n",
    "plt.title(\"Daily Number of Users by Party Size\")\n",
    "plt.tight_layout()\n",
    "plt.show()"
   ]
  },
  {
   "cell_type": "markdown",
   "id": "2fe3f268",
   "metadata": {},
   "source": [
    "- 데이터의 범위는 2017년 10월 20일 ~ 2018년 1월 10일\n",
    "- PUBG는 2017년 3월 24일 Steam에서 앞서 해보기로 선공개, 정식 출시일은 2017년 12월 21일\n",
    "- 2017년 12월 20일 기준으로 매칭 데이터가 극소수로 존재하는데, 이는 정식 출시를 위한 대규모 패치 작업이 이루어진 것으로 확인\n",
    "- 정식 출시 전과 후가 극명하게 갈리는 매치는 4인 파티(Squad), 2인 파티(Duo)이며, 솔로 플레이도 많이 증가하였으나 그 양이 현저히 미미한 것을 확인"
   ]
  },
  {
   "cell_type": "code",
   "execution_count": 25,
   "id": "630c7a65",
   "metadata": {},
   "outputs": [],
   "source": [
    "del pdf"
   ]
  },
  {
   "cell_type": "markdown",
   "id": "c2ff8186",
   "metadata": {},
   "source": [
    "## **Early Access기간과 Official Launch기간 간 Day7 Retention**\n",
    "\n",
    "- Early Access 기준 : 2017년 10월 21일 ~ 2017년 10월 27일\n",
    "- Official Launch 기준 : 2017년 12월 21일 ~ 2017년 12월 27일\n",
    "\n",
    "### **유의사항**\n",
    "- Official Launch는 출시일 기준부터 일주일이지만, Early Access 기준은 출시일 기준이 아닌 중간일 기준 계산\n",
    "\n",
    "### **게임 업계의 Retention의 좋은 성과 기준**\n",
    "\n",
    "Day 1 리텐션이 '좋은 성과'를 냈다고 말할 수 있는 기준은 **게임 장르, 플랫폼(모바일/PC), 유저 획득 경로(마케팅 채널), 게임의 서비스 단계(OBT/정식 출시)**에 따라 크게 달라짐\n",
    "\n",
    "**Day 1 리텐션: '좋은 성과'의 기준**\n",
    "\n",
    "- 해당 글([Game retention: 12 strategies from the most popular games](https://featureupvote.com/blog/game-retention))에 따르면, PC/콘솔 게임에서는 모바일보다 기대치가 높아서 Day 1 리텐션이 50~60% 이상이면 \"좋은\" 수준으로 보는 의견이 있음.\n",
    "- 하지만 이건 게임 업계마다 다르기 때문에, 일반적으로 Day 1 Retention이 30% 이상일 경우, \"**좋은 성과**를 낸 게임이다.\" 라고 이야기를 자주 한다고 함. (이건 배경 근간이 되는 정보를 찾아봐야할 것 같음...)\n",
    "\n",
    "**서비스 단계 내 고려 사항**\n",
    "\n",
    "- Early Access: 정식 출시 전 최종 검증 단계이므로, 최소 35% 이상을 달성해야 정식 출시 시 성공 가능성이 높다고 판단할 수 있다."
   ]
  },
  {
   "cell_type": "markdown",
   "id": "271a0c9a",
   "metadata": {},
   "source": [
    "### **Early Access 기간 데이터 EDA**"
   ]
  },
  {
   "cell_type": "code",
   "execution_count": 26,
   "id": "497fce76",
   "metadata": {},
   "outputs": [
    {
     "name": "stdout",
     "output_type": "stream",
     "text": [
      "+-------------------+---------+--------------------+----------+----------+--------------+-----------+------------------+------------------+----------+------------+--------------+-------------------+-------+--------------+-----------+\n",
      "|               date|game_size|            match_id|match_mode|party_size|player_assists|player_dbno|  player_dist_ride|  player_dist_walk|player_dmg|player_kills|   player_name|player_survive_time|team_id|team_placement|date_period|\n",
      "+-------------------+---------+--------------------+----------+----------+--------------+-----------+------------------+------------------+----------+------------+--------------+-------------------+-------+--------------+-----------+\n",
      "|2017-10-25 10:39:22|       27|2U4GBNA0YmmEUK5MT...|       tpp|         4|             0|          0|               0.0|        545.931152|         0|           0|    JarvanLING|             260.32|      1|            25| 2017-10-25|\n",
      "|2017-10-25 10:39:22|       27|2U4GBNA0YmmEUK5MT...|       tpp|         4|             0|          1|               0.0|434.55145300000004|        98|           1|       ShtFish|            260.316|      1|            25| 2017-10-25|\n",
      "|2017-10-25 10:39:22|       27|2U4GBNA0YmmEUK5MT...|       tpp|         4|             1|          1|               0.0|          403.2309|        83|           1|       EllioT1|            243.908|      1|            25| 2017-10-25|\n",
      "|2017-10-25 10:39:22|       27|2U4GBNA0YmmEUK5MT...|       tpp|         4|             1|          0|               0.0|285.32754500000004|        56|           0|        N1ckSu|            229.628|      1|            25| 2017-10-25|\n",
      "|2017-10-25 10:39:22|       27|2U4GBNA0YmmEUK5MT...|       tpp|         4|             0|          0|               0.0|          4422.031|         0|           0|  Gustavo_Gato|           1759.193|      2|             6| 2017-10-25|\n",
      "|2017-10-25 10:39:22|       27|2U4GBNA0YmmEUK5MT...|       tpp|         4|             0|          0|               0.0|        1280.90833|         0|           0|   RedPilledAF|            753.757|      2|             6| 2017-10-25|\n",
      "|2017-10-25 10:39:22|       27|2U4GBNA0YmmEUK5MT...|       tpp|         4|             0|          0|               0.0|        4229.31445|         0|           0|      Tian-Jin|            1760.24|      2|             6| 2017-10-25|\n",
      "|2017-10-25 10:39:22|       27|2U4GBNA0YmmEUK5MT...|       tpp|         4|             0|          0|               0.0|               0.0|         0|           0|          219P|             133.58|      3|            11| 2017-10-25|\n",
      "|2017-10-25 10:39:22|       27|2U4GBNA0YmmEUK5MT...|       tpp|         4|             0|          0|1044.1663800000001|        3756.93335|       127|           0|        Raphi_|           1282.515|      3|            11| 2017-10-25|\n",
      "|2017-10-25 10:39:22|       27|2U4GBNA0YmmEUK5MT...|       tpp|         4|             0|          3|               0.0|        389.076019|       383|           1|       skyyman|            497.483|      3|            11| 2017-10-25|\n",
      "|2017-10-25 10:39:22|       27|2U4GBNA0YmmEUK5MT...|       tpp|         4|             0|          2|        1998.24219|        2934.06567|       278|           0|     Affinityy|            1284.55|      3|            11| 2017-10-25|\n",
      "|2017-10-25 10:39:22|       27|2U4GBNA0YmmEUK5MT...|       tpp|         4|             0|          0|        1913.01685|        2017.49939|       102|           1|Chalen17ticup_|           1210.489|      4|            14| 2017-10-25|\n",
      "|2017-10-25 10:39:22|       27|2U4GBNA0YmmEUK5MT...|       tpp|         4|             0|          1|               0.0|          172.6576|       100|           0| AnxiousApathy|            196.795|      5|            27| 2017-10-25|\n",
      "|2017-10-25 10:39:22|       27|2U4GBNA0YmmEUK5MT...|       tpp|         4|             0|          0|               0.0|        44.0164032|        91|           0|    FatGiant99| 109.37799999999999|      5|            27| 2017-10-25|\n",
      "|2017-10-25 10:39:22|       27|2U4GBNA0YmmEUK5MT...|       tpp|         4|             0|          1|               0.0|         119.72683|        78|           1|   LordBroseph|             179.01|      5|            27| 2017-10-25|\n",
      "|2017-10-25 10:39:22|       27|2U4GBNA0YmmEUK5MT...|       tpp|         4|             0|          1|               0.0|        149.075882|        16|           1|    xXCypherXx|            189.532|      5|            27| 2017-10-25|\n",
      "|2017-10-25 10:39:22|       27|2U4GBNA0YmmEUK5MT...|       tpp|         4|             0|          0|               0.0|              0.28|         0|           0|Next_Top_Model|            144.141|      7|            23| 2017-10-25|\n",
      "|2017-10-25 10:39:22|       27|2U4GBNA0YmmEUK5MT...|       tpp|         4|             0|          1|               0.0| 561.4405519999999|        62|           1|         Cayzi|            847.518|      7|            23| 2017-10-25|\n",
      "|2017-10-25 10:39:22|       27|2U4GBNA0YmmEUK5MT...|       tpp|         4|             0|          1|               0.0|          7.227484|       138|           1| Dajukeboxguyy|            125.154|      7|            23| 2017-10-25|\n",
      "|2017-10-25 10:39:22|       27|2U4GBNA0YmmEUK5MT...|       tpp|         4|             0|          1|          247.3261|        737.644348|       175|           1|       hbbgood|            483.096|     12|            23| 2017-10-25|\n",
      "|2017-10-25 10:39:22|       27|2U4GBNA0YmmEUK5MT...|       tpp|         4|             0|          3|               0.0|           724.242|       399|           4|         Oaixx|            483.093|     12|            23| 2017-10-25|\n",
      "|2017-10-25 10:39:22|       27|2U4GBNA0YmmEUK5MT...|       tpp|         4|             0|          0|               0.0|         16.448534|         0|           0|        Drm000| 110.32700000000001|     12|            23| 2017-10-25|\n",
      "|2017-10-25 10:39:22|       27|2U4GBNA0YmmEUK5MT...|       tpp|         4|             0|          0|        1775.63989|        1303.10791|        61|           0|      Emanuele|            796.457|     13|            20| 2017-10-25|\n",
      "|2017-10-25 10:39:22|       27|2U4GBNA0YmmEUK5MT...|       tpp|         4|             0|          2|        1449.94312|1704.6507600000002|       129|           2|      Sccc_007|  796.4680000000001|     13|            20| 2017-10-25|\n",
      "|2017-10-25 10:39:22|       27|2U4GBNA0YmmEUK5MT...|       tpp|         4|             0|          0|        1469.66455|        1381.32129|         0|           0|     CJ_rocky9|            796.462|     13|            20| 2017-10-25|\n",
      "|2017-10-25 10:39:22|       27|2U4GBNA0YmmEUK5MT...|       tpp|         4|             1|          1|          5455.233|          2872.077|       132|           1|     Thomas_Wu| 1632.5339999999999|     14|             9| 2017-10-25|\n",
      "|2017-10-25 10:39:22|       27|2U4GBNA0YmmEUK5MT...|       tpp|         4|             0|          0|          5571.101|        2290.43945|         0|           0|       ASSISST|           1529.537|     14|             9| 2017-10-25|\n",
      "|2017-10-25 10:39:22|       27|2U4GBNA0YmmEUK5MT...|       tpp|         4|             0|          0|        4972.11133|        2492.91553|         0|           0|X1aorenshenRua|            1530.53|     14|             9| 2017-10-25|\n",
      "|2017-10-25 10:39:22|       27|2U4GBNA0YmmEUK5MT...|       tpp|         4|             1|          0|          2164.446|        4466.91943|       414|           0|        Wata_C|           1758.875|     17|             5| 2017-10-25|\n",
      "|2017-10-25 10:39:22|       27|2U4GBNA0YmmEUK5MT...|       tpp|         4|             0|          1|        2185.01465|          4717.938|       113|           2|   dogeemperor|           1727.297|     17|             5| 2017-10-25|\n",
      "+-------------------+---------+--------------------+----------+----------+--------------+-----------+------------------+------------------+----------+------------+--------------+-------------------+-------+--------------+-----------+\n",
      "only showing top 30 rows\n",
      "\n"
     ]
    }
   ],
   "source": [
    "# Early Access 기간 데이터 필터링\n",
    "df_early_accesss = df_formatted.filter(\n",
    "    (col(\"date_period\") >= \"2017-10-21\") & (col(\"date_period\") <= \"2017-10-27\")\n",
    ")\n",
    "\n",
    "# 데이터 확인\n",
    "df_early_accesss.show(30)"
   ]
  },
  {
   "cell_type": "code",
   "execution_count": 27,
   "id": "3a2ccd9f",
   "metadata": {},
   "outputs": [
    {
     "name": "stdout",
     "output_type": "stream",
     "text": [
      "Early Access  기간 참여 유저 수: 1370551\n",
      "Early Access  기간 매칭 파티 수: 54926\n"
     ]
    }
   ],
   "source": [
    "# Early Access 기간 참여 유저 수 집계\n",
    "early_access_users = df_early_accesss.select(\"player_name\").distinct().count()\n",
    "print(f\"Early Access  기간 참여 유저 수: {early_access_users}\")\n",
    "\n",
    "# Early Access 기간 매칭 파티 수 집계\n",
    "early_access_match = df_early_accesss.select(\"match_id\").distinct().count()\n",
    "print(f\"Early Access  기간 매칭 파티 수: {early_access_match}\")"
   ]
  },
  {
   "cell_type": "markdown",
   "id": "c9613b9f",
   "metadata": {},
   "source": [
    "### **Early Access 기간 Cohort 분석**"
   ]
  },
  {
   "cell_type": "code",
   "execution_count": 28,
   "id": "b6c487bd",
   "metadata": {},
   "outputs": [],
   "source": [
    "def create_cohort(df, title:str):\n",
    "    # player_name 별 데이터 분리\n",
    "    window_spec = Window.partitionBy(\"player_name\")\n",
    "    \n",
    "    # 첫 플레이 일자 계산\n",
    "    df = df.withColumn(\"first_play_date\", min(\"date_period\").over(window_spec))\n",
    "    \n",
    "    # 데이터 확인\n",
    "    df.show(30)\n",
    "\n",
    "    # CBT 기간 기준 Cohort 별 일자별 유저 수 집계\n",
    "    df_cohort = df.groupBy([\"first_play_date\", \"date_period\"]).agg(\n",
    "        countDistinct(\"player_name\").alias(\"user_count\")\n",
    "    ).orderBy([\"first_play_date\", \"date_period\"])\n",
    "\n",
    "    # pandas 데이터프레임으로 변환\n",
    "    pdf_cohort = df_cohort.toPandas()\n",
    "    \n",
    "    # 변환 확인\n",
    "    pdf_cohort.head(10)\n",
    "\n",
    "    # date 컬럼을 datetime으로 변환\n",
    "    pdf_cohort['first_play_date'] = pd.to_datetime(pdf_cohort['first_play_date'])\n",
    "    pdf_cohort['date_period'] = pd.to_datetime(pdf_cohort['date_period'])\n",
    "    \n",
    "    # 첫 플레이일 기준 경과일 계산\n",
    "    pdf_cohort['days_since_first_play'] = (pdf_cohort['date_period'] - pdf_cohort['first_play_date']).dt.days\n",
    "    \n",
    "    # 첫날 유저 수 (cohort size)\n",
    "    cohort_size = pdf_cohort[pdf_cohort['days_since_first_play'] == 0][['first_play_date', 'user_count']]\n",
    "    cohort_size = cohort_size.rename(columns={'user_count': 'cohort_size'})\n",
    "    \n",
    "    # 원본 데이터와 병합\n",
    "    pdf_cohort = pdf_cohort.merge(cohort_size, on='first_play_date')\n",
    "\n",
    "    # Retention 계산\n",
    "    pdf_cohort['retention_rate'] = pdf_cohort['user_count'] / pdf_cohort['cohort_size']\n",
    "\n",
    "    # 행: first_play_date, 열: days_since_first_play, 값: retention_rate\n",
    "    heatmap_data = pdf_cohort.pivot(index='first_play_date', \n",
    "                                   columns='days_since_first_play', \n",
    "                                   values='retention_rate')\n",
    "    \n",
    "    plt.figure(figsize=(12, 8))\n",
    "    sns.heatmap(heatmap_data, annot=True, fmt=\".2f\", cmap=\"YlGnBu\")\n",
    "    plt.title(title)\n",
    "    plt.xlabel(\"Days Since First Play\")\n",
    "    plt.ylabel(\"Cohort First Play Date\")\n",
    "    plt.show()"
   ]
  },
  {
   "cell_type": "code",
   "execution_count": 29,
   "id": "a2f23cb6",
   "metadata": {},
   "outputs": [
    {
     "name": "stdout",
     "output_type": "stream",
     "text": [
      "+-------------------+---------+--------------------+----------+----------+--------------+-----------+------------------+------------------+----------+------------+--------------+-------------------+-------+--------------+-----------+---------------+\n",
      "|               date|game_size|            match_id|match_mode|party_size|player_assists|player_dbno|  player_dist_ride|  player_dist_walk|player_dmg|player_kills|   player_name|player_survive_time|team_id|team_placement|date_period|first_play_date|\n",
      "+-------------------+---------+--------------------+----------+----------+--------------+-----------+------------------+------------------+----------+------------+--------------+-------------------+-------+--------------+-----------+---------------+\n",
      "|2017-10-26 07:30:00|       24|2U4GBNA0YmkHViRzU...|       tpp|         4|             0|          0| 5455.496999999999|         1314.7428|         0|           0|0---HaMMaN---0|            907.074|     30|            13| 2017-10-26|     2017-10-23|\n",
      "|2017-10-25 13:00:02|       97|2U4GBNA0YmlDHImau...|       tpp|         1|             0|          0|        1879.48315|2502.7392600000003|       345|           3|0---HaMMaN---0| 1524.7379999999998| 100044|            10| 2017-10-25|     2017-10-23|\n",
      "|2017-10-24 05:39:21|       94|2U4GBNA0YmmA1rZlk...|       tpp|         1|             0|          0|               0.0|166.12828100000002|       100|           1|0---HaMMaN---0|            176.653| 100088|            71| 2017-10-24|     2017-10-23|\n",
      "|2017-10-23 04:47:31|       97|2U4GBNA0YmmTkL8Uc...|       tpp|         1|             0|          0|               0.0|1274.8881800000001|       286|           3|0---HaMMaN---0|           1786.774| 100096|             1| 2017-10-23|     2017-10-23|\n",
      "|2017-10-24 00:28:02|       87|2U4GBNA0YmmrXpyjG...|       tpp|         1|             0|          0|               0.0|226.54873700000002|         0|           0|  0-9mayuchuan| 1385.0629999999999| 100042|            59| 2017-10-24|     2017-10-24|\n",
      "|2017-10-23 22:53:57|       26|2U4GBNA0YmlkjBitm...|       tpp|         4|             0|          0|        5013.22949|        1175.21313|        28|           0|      0-OREO-0|  856.1310000000001|     15|            14| 2017-10-23|     2017-10-23|\n",
      "|2017-10-22 16:01:17|       50|2U4GBNA0YmlxFZhdI...|       tpp|         2|             0|          0|               0.0| 82.27819000000001|         0|           0|      0-Yuejie|            137.592|     32|            45| 2017-10-22|     2017-10-22|\n",
      "|2017-10-22 17:05:48|       48|2U4GBNA0Ymm4vXFHg...|       tpp|         2|             0|          0|               0.0|            551.72|       127|           1|      0-Yuejie|            359.375|     23|            38| 2017-10-22|     2017-10-22|\n",
      "|2017-10-23 20:47:47|       50|2U4GBNA0YmlnmoNZN...|       tpp|         2|             0|          1|225.81767299999998|        766.238831|       186|           1|      0-Yuejie|            477.917|     11|            35| 2017-10-23|     2017-10-22|\n",
      "|2017-10-26 21:30:59|       49|2U4GBNA0YmnB33a3i...|       tpp|         2|             0|          1|               0.0|441.60412599999995|       100|           1|   00000xxxxxx|             355.03|     17|            40| 2017-10-26|     2017-10-26|\n",
      "|2017-10-26 21:26:27|       49|2U4GBNA0YmnRcVCgM...|       tpp|         2|             0|          0|               0.0|          243.7108|        94|           0|   00000xxxxxx|            167.037|     16|            45| 2017-10-26|     2017-10-26|\n",
      "|2017-10-26 20:47:05|       27|2U4GBNA0YmkZny1ry...|       tpp|         4|             1|          0|2003.6402600000001|            936.54|        23|           0|   00000xxxxxx|            744.454|     17|            16| 2017-10-26|     2017-10-26|\n",
      "|2017-10-25 10:49:09|       28|2U4GBNA0YmnArcfAQ...|       tpp|         4|             0|          0|               0.0|        46.6052971|         0|           0|        0000bo| 176.50799999999998|      6|            21| 2017-10-25|     2017-10-25|\n",
      "|2017-10-26 21:37:28|       26|2U4GBNA0Ymnngu_YK...|       tpp|         4|             2|          1|        2826.25342|          3762.565|       180|           1|        0000bo|           1832.003|     12|             1| 2017-10-26|     2017-10-25|\n",
      "|2017-10-27 15:18:25|       23|2U4GBNA0YmkwJCLXY...|       tpp|         4|             0|          0|3869.3259999999996|        1673.66016|        48|           0|        0000bo|           1802.352|     18|             5| 2017-10-27|     2017-10-25|\n",
      "|2017-10-25 17:10:39|       50|2U4GBNA0YmnfskH1B...|       tpp|         2|             0|          0|          875.6484|         270.03302|         2|           0|        0000bo|            486.522|     35|            31| 2017-10-25|     2017-10-25|\n",
      "|2017-10-26 23:57:02|       28|2U4GBNA0YmngFKBQr...|       tpp|         4|             0|          1|         4704.1377|        4033.03833|         3|           0|        0000bo| 1518.9479999999999|      7|             8| 2017-10-26|     2017-10-25|\n",
      "|2017-10-25 09:47:49|       91|2U4GBNA0YmnxcI2lc...|       tpp|         1|             0|          0|        1482.30078|         2152.5354|        47|           0|        0000bo|  894.3960000000001| 100061|            39| 2017-10-25|     2017-10-25|\n",
      "|2017-10-27 10:30:35|       50|2U4GBNA0YmmkRLAni...|       tpp|         2|             0|          0|        2.60197973|        3954.01245|        27|           0|        0000bo|           1186.629|      1|             6| 2017-10-27|     2017-10-25|\n",
      "|2017-10-25 11:55:40|       25|2U4GBNA0Yml7Oc7Wq...|       tpp|         4|             0|          0|         1299.0376|        2197.98364|         0|           0|        0000bo|           1076.339|      7|             5| 2017-10-25|     2017-10-25|\n",
      "|2017-10-25 16:16:21|       28|2U4GBNA0YmkcNewt5...|       tpp|         4|             0|          1|        345.596252|4085.6362299999996|       147|           1|        0000bo|           1741.244|      9|             5| 2017-10-25|     2017-10-25|\n",
      "|2017-10-26 03:15:58|       27|2U4GBNA0YmkT7bfyQ...|       tpp|         4|             1|          2| 5623.058000000001|2870.5615199999997|       144|           1|     00017laoA|           1491.829|     19|             8| 2017-10-26|     2017-10-25|\n",
      "|2017-10-25 03:26:27|       49|2U4GBNA0Ymm2qq2qy...|       tpp|         2|             0|          0|               0.0|               0.0|         0|           0|     00017laoA| 127.68299999999999|      5|            20| 2017-10-25|     2017-10-25|\n",
      "|2017-10-25 02:45:00|       99|2U4GBNA0YmmiHbdb9...|       tpp|         1|             0|          0|               0.0|        136.699265|         0|           0|     00017laoA|            202.115| 100055|            75| 2017-10-25|     2017-10-25|\n",
      "|2017-10-25 04:01:15|       48|2U4GBNA0Ymnrk5zU4...|       tpp|         2|             0|          3|               0.0|        1244.28259|       546|           6|     00017laoA|            638.068|     36|            10| 2017-10-25|     2017-10-25|\n",
      "|2017-10-26 03:42:53|       29|2U4GBNA0YmkaUHJcY...|       tpp|         4|             0|          0|        191.259018|        1463.56689|         0|           0|     00017laoA|            879.311|     10|            16| 2017-10-26|     2017-10-25|\n",
      "|2017-10-25 00:13:29|       27|2U4GBNA0YmmO8Ui_G...|       tpp|         4|             0|          2|            3073.0|        2794.96167|       300|           1|     00017laoA|           1269.749|      9|            12| 2017-10-25|     2017-10-25|\n",
      "|2017-10-22 21:13:39|       49|2U4GBNA0YmmbraUwJ...|       tpp|         2|             0|          0|               0.0|          98.68474|         0|           0|        000213|            136.316|     18|            47| 2017-10-22|     2017-10-22|\n",
      "|2017-10-22 19:51:15|       49|2U4GBNA0Ymm5_c-s0...|       tpp|         2|             0|          0|               0.0|        283.347961|        99|           0|        000213|  646.7130000000001|      1|            28| 2017-10-22|     2017-10-22|\n",
      "|2017-10-22 19:30:02|       48|2U4GBNA0YmkqEeFW1...|       tpp|         2|             0|          0|               0.0|          3199.676|       100|           1|        000213|            1149.89|     11|            18| 2017-10-22|     2017-10-22|\n",
      "+-------------------+---------+--------------------+----------+----------+--------------+-----------+------------------+------------------+----------+------------+--------------+-------------------+-------+--------------+-----------+---------------+\n",
      "only showing top 30 rows\n",
      "\n"
     ]
    },
    {
     "data": {
      "image/png": "[encoded data removed]",
      "text/plain": [
       "<Figure size 1200x800 with 2 Axes>"
      ]
     },
     "metadata": {},
     "output_type": "display_data"
    }
   ],
   "source": [
    "create_cohort(df_early_accesss, title=\"Early Access Cohort Retention (7 Days)\")"
   ]
  },
  {
   "cell_type": "markdown",
   "id": "5e403cd1",
   "metadata": {},
   "source": [
    "해당 내용을 살펴보면 다음과 같이 정리할 수 있다.\n",
    "\n",
    "### **OBT 기간 내 Cohort 분석 결론**\n",
    "\n",
    "#### **일반적인 게임 업계의 리텐션 지표**\n",
    "\n",
    "- **Day 1 Retention (다음날 재접속률)** : 모바일 PC 온라인 게임 업계에서는 보통 30~40% 수준이면 준수한 편, 50% 이상이면 매우 우수한 편이다.\n",
    "- **Day 7 Retention (일주일 후 재 접속률)** : 보통 10~20% 정도가 업계 평균치로 여겨짐. 20% 이상이면 상위권 게임으로 평가됨.\n",
    "- **Day 30 Retention (30일 후 재접속률)** : 5~10%만 유지해도 성공적으로 안착했다고 봄.\n",
    "\n",
    "#### **결과 해석**\n",
    "\n",
    "- **Day 1 Retention (36%, 27%, 24%, 22% ...)**\n",
    "    - 10월 21일 기준 Cohort의 경우 36%로 매우 준수한 수치이다. 뒤 Cohort는 20%대까지 하락했는데, 이는 신규 유입 시점별 경험 차이 (서버 불안정, 밸런스 문제 등)로 볼 수 있음.\n",
    "- **Day 3~7 Retention (약 16~23%)**\n",
    "    - 대부분의 Cohort에서 7일차까지 15~23% 수준을 유지하고 있음. 이는 업계 평균을 상회하는 결과이며, 게임의 **초기 몰입도와 재미요소**가 강력하게 작동했음을 시사함.\n",
    "- **Retention Curve의 패턴**\n",
    "    - Day 1에서 급격히 이탈하지만 이후 1주일 내에는 일정 수준(15~20%)에서 안정화되었음. 이는 충성도 높은 Core 게이머 집단이 빠르게 남았음을 보여줌.\n",
    "\n",
    "#### **게임 업계 관점에서의 의미**\n",
    "\n",
    "**긍정적 요인**\n",
    "- 출시 초기에 높은 관심과 입소문으로 Day 1 Retention이 평균 이상.\n",
    "- 단순 반복 플레이가 아닌 \"라운드 단위\"의 독립적 경험. 중도 이탈 이후에도 복귀 여지가 큰 장르 특성.\n",
    "- 초반 1주일 동안의 안정화된 Retention은 **장기 라이브 서비스 가능성**을 뒷받침함.\n",
    "\n",
    "**우려 요인**\n",
    "- 후반 Cohort의 Day 1 Retention이 20%대로 떨어진 점은, **서버 문제나 초기 피로감**이 반영되었을 가능성이 있음.\n",
    "- Day Retention이 15%선에서 멈춘다는 것은, 결국 Core 유저층 이외의 라이트 유저는 빠르게 이탈했음을 보여줌.\n",
    "\n",
    "### **결론 요약**\n",
    "\n",
    "PUBG OBT의 리텐션은 당시 업계 평균 대비 상당히 높은 수준이며, \"Day 7 기준 15~23% 유지\"는 글로벌 흥행작으로 성장할 수 있는 핵심 지표이다. 다만, Cohort별 Day 1 차이가 발생하는 것은 서비스 안정화 및 신규 유저 온보딩에서 개선 과제가 있었음을 의미한다."
   ]
  },
  {
   "cell_type": "code",
   "execution_count": null,
   "id": "a7e55c9e",
   "metadata": {},
   "outputs": [],
   "source": []
  },
  {
   "cell_type": "code",
   "execution_count": null,
   "id": "e299fe4e",
   "metadata": {},
   "outputs": [],
   "source": []
  },
  {
   "cell_type": "code",
   "execution_count": null,
   "id": "21fb54e4",
   "metadata": {},
   "outputs": [],
   "source": []
  },
  {
   "cell_type": "code",
   "execution_count": null,
   "id": "bb9223e7",
   "metadata": {},
   "outputs": [],
   "source": []
  },
  {
   "cell_type": "code",
   "execution_count": null,
   "id": "1bdcd135",
   "metadata": {},
   "outputs": [],
   "source": []
  },
  {
   "cell_type": "code",
   "execution_count": null,
   "id": "995d8060",
   "metadata": {},
   "outputs": [],
   "source": []
  },
  {
   "cell_type": "code",
   "execution_count": null,
   "id": "6ed163b7",
   "metadata": {},
   "outputs": [],
   "source": []
  },
  {
   "cell_type": "code",
   "execution_count": null,
   "id": "ea5a0ea5",
   "metadata": {},
   "outputs": [],
   "source": []
  }
 ],
 "metadata": {
  "kernelspec": {
   "display_name": "Python 3",
   "language": "python",
   "name": "python3"
  },
  "language_info": {
   "codemirror_mode": {
    "name": "ipython",
    "version": 3
   },
   "file_extension": ".py",
   "mimetype": "text/x-python",
   "name": "python",
   "nbconvert_exporter": "python",
   "pygments_lexer": "ipython3",
   "version": "3.13.7"
  }
 },
 "nbformat": 4,
 "nbformat_minor": 5
}
